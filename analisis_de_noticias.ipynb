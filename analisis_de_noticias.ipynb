{
  "cells": [
    {
      "cell_type": "markdown",
      "metadata": {
        "id": "view-in-github",
        "colab_type": "text"
      },
      "source": [
        "<a href=\"https://colab.research.google.com/github/Hectorsyj/prueba/blob/main/analisis_de_noticias.ipynb\" target=\"_parent\"><img src=\"https://colab.research.google.com/assets/colab-badge.svg\" alt=\"Open In Colab\"/></a>"
      ]
    },
    {
      "cell_type": "markdown",
      "id": "c64464af",
      "metadata": {
        "id": "c64464af"
      },
      "source": [
        "## Actividad Clasificacion de las Noticias\n",
        "\n",
        "---\n",
        "Cargar el archivo Noticias.xlsx que contiene las noticias.\n",
        "Explorar la distribución de la columna Etiqueta para ver cuántas noticias pertenecen a cada categoría.\n",
        "Visualizar esta distribución mediante gráficos para identificar las categorías más frecuentes."
      ]
    },
    {
      "cell_type": "code",
      "source": [
        "pip install pandas numpy scikit-learn nltk gensim scipy openpyxl\n"
      ],
      "metadata": {
        "colab": {
          "base_uri": "https://localhost:8080/"
        },
        "id": "UclPbSv0aO5W",
        "outputId": "d50903d0-4fbe-4e84-d8fd-e57b0b4e526d"
      },
      "id": "UclPbSv0aO5W",
      "execution_count": 1,
      "outputs": [
        {
          "output_type": "stream",
          "name": "stdout",
          "text": [
            "Requirement already satisfied: pandas in /usr/local/lib/python3.10/dist-packages (2.2.2)\n",
            "Requirement already satisfied: numpy in /usr/local/lib/python3.10/dist-packages (1.26.4)\n",
            "Requirement already satisfied: scikit-learn in /usr/local/lib/python3.10/dist-packages (1.5.2)\n",
            "Requirement already satisfied: nltk in /usr/local/lib/python3.10/dist-packages (3.9.1)\n",
            "Requirement already satisfied: gensim in /usr/local/lib/python3.10/dist-packages (4.3.3)\n",
            "Requirement already satisfied: scipy in /usr/local/lib/python3.10/dist-packages (1.13.1)\n",
            "Requirement already satisfied: openpyxl in /usr/local/lib/python3.10/dist-packages (3.1.5)\n",
            "Requirement already satisfied: python-dateutil>=2.8.2 in /usr/local/lib/python3.10/dist-packages (from pandas) (2.8.2)\n",
            "Requirement already satisfied: pytz>=2020.1 in /usr/local/lib/python3.10/dist-packages (from pandas) (2024.2)\n",
            "Requirement already satisfied: tzdata>=2022.7 in /usr/local/lib/python3.10/dist-packages (from pandas) (2024.2)\n",
            "Requirement already satisfied: joblib>=1.2.0 in /usr/local/lib/python3.10/dist-packages (from scikit-learn) (1.4.2)\n",
            "Requirement already satisfied: threadpoolctl>=3.1.0 in /usr/local/lib/python3.10/dist-packages (from scikit-learn) (3.5.0)\n",
            "Requirement already satisfied: click in /usr/local/lib/python3.10/dist-packages (from nltk) (8.1.7)\n",
            "Requirement already satisfied: regex>=2021.8.3 in /usr/local/lib/python3.10/dist-packages (from nltk) (2024.9.11)\n",
            "Requirement already satisfied: tqdm in /usr/local/lib/python3.10/dist-packages (from nltk) (4.66.6)\n",
            "Requirement already satisfied: smart-open>=1.8.1 in /usr/local/lib/python3.10/dist-packages (from gensim) (7.0.5)\n",
            "Requirement already satisfied: et-xmlfile in /usr/local/lib/python3.10/dist-packages (from openpyxl) (2.0.0)\n",
            "Requirement already satisfied: six>=1.5 in /usr/local/lib/python3.10/dist-packages (from python-dateutil>=2.8.2->pandas) (1.16.0)\n",
            "Requirement already satisfied: wrapt in /usr/local/lib/python3.10/dist-packages (from smart-open>=1.8.1->gensim) (1.17.0)\n"
          ]
        }
      ]
    },
    {
      "cell_type": "markdown",
      "id": "a0f9ac65",
      "metadata": {
        "id": "a0f9ac65"
      },
      "source": [
        "#Ejercicio 1.\n",
        "\n",
        "#Carga y Exploración de Datos\n",
        "\n",
        "**Objetivo:** Familiarizarse con el conjunto de datos y comprender la distribución de las categorías.  \n",
        "**Acciones:**\n",
        "* Cargar el archivo Noticias.xlsx que contiene las noticias.\n",
        "* Explorar la distribución de la columna Etiqueta para ver cuántas noticias pertenecen a cada categoría.\n",
        "* Visualizar esta distribución mediante gráficos para identificar las categorías más frecuentes."
      ]
    },
    {
      "cell_type": "code",
      "source": [
        "import nltk\n",
        "nltk.download('punkt')\n",
        "nltk.download('stopwords')\n",
        "nltk.download('punkt_tab')"
      ],
      "metadata": {
        "colab": {
          "base_uri": "https://localhost:8080/"
        },
        "id": "8LssxsGYZ52E",
        "outputId": "6d40e1d2-4480-42fc-a359-c49f6d3e60e4"
      },
      "id": "8LssxsGYZ52E",
      "execution_count": 2,
      "outputs": [
        {
          "output_type": "stream",
          "name": "stderr",
          "text": [
            "[nltk_data] Downloading package punkt to /root/nltk_data...\n",
            "[nltk_data]   Unzipping tokenizers/punkt.zip.\n",
            "[nltk_data] Downloading package stopwords to /root/nltk_data...\n",
            "[nltk_data]   Unzipping corpora/stopwords.zip.\n",
            "[nltk_data] Downloading package punkt_tab to /root/nltk_data...\n",
            "[nltk_data]   Unzipping tokenizers/punkt_tab.zip.\n"
          ]
        },
        {
          "output_type": "execute_result",
          "data": {
            "text/plain": [
              "True"
            ]
          },
          "metadata": {},
          "execution_count": 2
        }
      ]
    },
    {
      "cell_type": "code",
      "execution_count": 3,
      "id": "6ee605c6",
      "metadata": {
        "colab": {
          "base_uri": "https://localhost:8080/",
          "height": 640
        },
        "id": "6ee605c6",
        "outputId": "5557e439-a684-4d2e-db09-56e311aa495c"
      },
      "outputs": [
        {
          "output_type": "stream",
          "name": "stderr",
          "text": [
            "[nltk_data] Downloading package punkt to /root/nltk_data...\n",
            "[nltk_data]   Package punkt is already up-to-date!\n",
            "[nltk_data] Downloading package stopwords to /root/nltk_data...\n",
            "[nltk_data]   Package stopwords is already up-to-date!\n"
          ]
        },
        {
          "output_type": "execute_result",
          "data": {
            "text/plain": [
              "   Columna1                                            Enlaces  \\\n",
              "0         0  https://www.eltiempo.com/agresion-contra-un-op...   \n",
              "1         1  https://www.eltiempo.com/archivo/documento/CMS...   \n",
              "2         2  https://www.eltiempo.com/archivo/documento/CMS...   \n",
              "3         3  https://www.eltiempo.com/archivo/documento/CMS...   \n",
              "4         4  https://www.eltiempo.com/archivo/documento/CMS...   \n",
              "\n",
              "                                              Título  \\\n",
              "0  Operador de grúa quedó inconsciente tras agres...   \n",
              "1   Usaquén, primera en infracciones por mal parqueo   \n",
              "2  'Me atracaron y vi un arma que me heló la sang...   \n",
              "3  Escoltas mal estacionados, dolor de cabeza de ...   \n",
              "4  Radicado primer proyecto que autorizaría union...   \n",
              "\n",
              "                                                info  \\\n",
              "0  El conductor de una moto le lanzó el casco y p...   \n",
              "1  La localidad ocupa el primer lugar en comparen...   \n",
              "2  Un ciudadano relata cómo cuatro hombres lo rob...   \n",
              "3  Las zonas de restaurantes se convierten en par...   \n",
              "4  El representante de 'la U', Miguel Gómez, dijo...   \n",
              "\n",
              "                                           contenido  Etiqueta  \n",
              "0  Las autoridades están buscando al conductor de...  colombia  \n",
              "1  \"Los andenes son para los peatones\", reclama e...   archivo  \n",
              "2  A las 7 de la noche me había quedado de encont...   archivo  \n",
              "3  Atravesados. Eso es lo que se les pasa por la ...   archivo  \n",
              "4  “Estamos proponiendo la figura de un contrato ...   archivo  "
            ],
            "text/html": [
              "\n",
              "  <div id=\"df-787934e1-c9ef-4d28-9771-efc6fe69f84d\" class=\"colab-df-container\">\n",
              "    <div>\n",
              "<style scoped>\n",
              "    .dataframe tbody tr th:only-of-type {\n",
              "        vertical-align: middle;\n",
              "    }\n",
              "\n",
              "    .dataframe tbody tr th {\n",
              "        vertical-align: top;\n",
              "    }\n",
              "\n",
              "    .dataframe thead th {\n",
              "        text-align: right;\n",
              "    }\n",
              "</style>\n",
              "<table border=\"1\" class=\"dataframe\">\n",
              "  <thead>\n",
              "    <tr style=\"text-align: right;\">\n",
              "      <th></th>\n",
              "      <th>Columna1</th>\n",
              "      <th>Enlaces</th>\n",
              "      <th>Título</th>\n",
              "      <th>info</th>\n",
              "      <th>contenido</th>\n",
              "      <th>Etiqueta</th>\n",
              "    </tr>\n",
              "  </thead>\n",
              "  <tbody>\n",
              "    <tr>\n",
              "      <th>0</th>\n",
              "      <td>0</td>\n",
              "      <td>https://www.eltiempo.com/agresion-contra-un-op...</td>\n",
              "      <td>Operador de grúa quedó inconsciente tras agres...</td>\n",
              "      <td>El conductor de una moto le lanzó el casco y p...</td>\n",
              "      <td>Las autoridades están buscando al conductor de...</td>\n",
              "      <td>colombia</td>\n",
              "    </tr>\n",
              "    <tr>\n",
              "      <th>1</th>\n",
              "      <td>1</td>\n",
              "      <td>https://www.eltiempo.com/archivo/documento/CMS...</td>\n",
              "      <td>Usaquén, primera en infracciones por mal parqueo</td>\n",
              "      <td>La localidad ocupa el primer lugar en comparen...</td>\n",
              "      <td>\"Los andenes son para los peatones\", reclama e...</td>\n",
              "      <td>archivo</td>\n",
              "    </tr>\n",
              "    <tr>\n",
              "      <th>2</th>\n",
              "      <td>2</td>\n",
              "      <td>https://www.eltiempo.com/archivo/documento/CMS...</td>\n",
              "      <td>'Me atracaron y vi un arma que me heló la sang...</td>\n",
              "      <td>Un ciudadano relata cómo cuatro hombres lo rob...</td>\n",
              "      <td>A las 7 de la noche me había quedado de encont...</td>\n",
              "      <td>archivo</td>\n",
              "    </tr>\n",
              "    <tr>\n",
              "      <th>3</th>\n",
              "      <td>3</td>\n",
              "      <td>https://www.eltiempo.com/archivo/documento/CMS...</td>\n",
              "      <td>Escoltas mal estacionados, dolor de cabeza de ...</td>\n",
              "      <td>Las zonas de restaurantes se convierten en par...</td>\n",
              "      <td>Atravesados. Eso es lo que se les pasa por la ...</td>\n",
              "      <td>archivo</td>\n",
              "    </tr>\n",
              "    <tr>\n",
              "      <th>4</th>\n",
              "      <td>4</td>\n",
              "      <td>https://www.eltiempo.com/archivo/documento/CMS...</td>\n",
              "      <td>Radicado primer proyecto que autorizaría union...</td>\n",
              "      <td>El representante de 'la U', Miguel Gómez, dijo...</td>\n",
              "      <td>“Estamos proponiendo la figura de un contrato ...</td>\n",
              "      <td>archivo</td>\n",
              "    </tr>\n",
              "  </tbody>\n",
              "</table>\n",
              "</div>\n",
              "    <div class=\"colab-df-buttons\">\n",
              "\n",
              "  <div class=\"colab-df-container\">\n",
              "    <button class=\"colab-df-convert\" onclick=\"convertToInteractive('df-787934e1-c9ef-4d28-9771-efc6fe69f84d')\"\n",
              "            title=\"Convert this dataframe to an interactive table.\"\n",
              "            style=\"display:none;\">\n",
              "\n",
              "  <svg xmlns=\"http://www.w3.org/2000/svg\" height=\"24px\" viewBox=\"0 -960 960 960\">\n",
              "    <path d=\"M120-120v-720h720v720H120Zm60-500h600v-160H180v160Zm220 220h160v-160H400v160Zm0 220h160v-160H400v160ZM180-400h160v-160H180v160Zm440 0h160v-160H620v160ZM180-180h160v-160H180v160Zm440 0h160v-160H620v160Z\"/>\n",
              "  </svg>\n",
              "    </button>\n",
              "\n",
              "  <style>\n",
              "    .colab-df-container {\n",
              "      display:flex;\n",
              "      gap: 12px;\n",
              "    }\n",
              "\n",
              "    .colab-df-convert {\n",
              "      background-color: #E8F0FE;\n",
              "      border: none;\n",
              "      border-radius: 50%;\n",
              "      cursor: pointer;\n",
              "      display: none;\n",
              "      fill: #1967D2;\n",
              "      height: 32px;\n",
              "      padding: 0 0 0 0;\n",
              "      width: 32px;\n",
              "    }\n",
              "\n",
              "    .colab-df-convert:hover {\n",
              "      background-color: #E2EBFA;\n",
              "      box-shadow: 0px 1px 2px rgba(60, 64, 67, 0.3), 0px 1px 3px 1px rgba(60, 64, 67, 0.15);\n",
              "      fill: #174EA6;\n",
              "    }\n",
              "\n",
              "    .colab-df-buttons div {\n",
              "      margin-bottom: 4px;\n",
              "    }\n",
              "\n",
              "    [theme=dark] .colab-df-convert {\n",
              "      background-color: #3B4455;\n",
              "      fill: #D2E3FC;\n",
              "    }\n",
              "\n",
              "    [theme=dark] .colab-df-convert:hover {\n",
              "      background-color: #434B5C;\n",
              "      box-shadow: 0px 1px 3px 1px rgba(0, 0, 0, 0.15);\n",
              "      filter: drop-shadow(0px 1px 2px rgba(0, 0, 0, 0.3));\n",
              "      fill: #FFFFFF;\n",
              "    }\n",
              "  </style>\n",
              "\n",
              "    <script>\n",
              "      const buttonEl =\n",
              "        document.querySelector('#df-787934e1-c9ef-4d28-9771-efc6fe69f84d button.colab-df-convert');\n",
              "      buttonEl.style.display =\n",
              "        google.colab.kernel.accessAllowed ? 'block' : 'none';\n",
              "\n",
              "      async function convertToInteractive(key) {\n",
              "        const element = document.querySelector('#df-787934e1-c9ef-4d28-9771-efc6fe69f84d');\n",
              "        const dataTable =\n",
              "          await google.colab.kernel.invokeFunction('convertToInteractive',\n",
              "                                                    [key], {});\n",
              "        if (!dataTable) return;\n",
              "\n",
              "        const docLinkHtml = 'Like what you see? Visit the ' +\n",
              "          '<a target=\"_blank\" href=https://colab.research.google.com/notebooks/data_table.ipynb>data table notebook</a>'\n",
              "          + ' to learn more about interactive tables.';\n",
              "        element.innerHTML = '';\n",
              "        dataTable['output_type'] = 'display_data';\n",
              "        await google.colab.output.renderOutput(dataTable, element);\n",
              "        const docLink = document.createElement('div');\n",
              "        docLink.innerHTML = docLinkHtml;\n",
              "        element.appendChild(docLink);\n",
              "      }\n",
              "    </script>\n",
              "  </div>\n",
              "\n",
              "\n",
              "<div id=\"df-ca679d8a-ef89-4fd1-9681-3b5872a2725d\">\n",
              "  <button class=\"colab-df-quickchart\" onclick=\"quickchart('df-ca679d8a-ef89-4fd1-9681-3b5872a2725d')\"\n",
              "            title=\"Suggest charts\"\n",
              "            style=\"display:none;\">\n",
              "\n",
              "<svg xmlns=\"http://www.w3.org/2000/svg\" height=\"24px\"viewBox=\"0 0 24 24\"\n",
              "     width=\"24px\">\n",
              "    <g>\n",
              "        <path d=\"M19 3H5c-1.1 0-2 .9-2 2v14c0 1.1.9 2 2 2h14c1.1 0 2-.9 2-2V5c0-1.1-.9-2-2-2zM9 17H7v-7h2v7zm4 0h-2V7h2v10zm4 0h-2v-4h2v4z\"/>\n",
              "    </g>\n",
              "</svg>\n",
              "  </button>\n",
              "\n",
              "<style>\n",
              "  .colab-df-quickchart {\n",
              "      --bg-color: #E8F0FE;\n",
              "      --fill-color: #1967D2;\n",
              "      --hover-bg-color: #E2EBFA;\n",
              "      --hover-fill-color: #174EA6;\n",
              "      --disabled-fill-color: #AAA;\n",
              "      --disabled-bg-color: #DDD;\n",
              "  }\n",
              "\n",
              "  [theme=dark] .colab-df-quickchart {\n",
              "      --bg-color: #3B4455;\n",
              "      --fill-color: #D2E3FC;\n",
              "      --hover-bg-color: #434B5C;\n",
              "      --hover-fill-color: #FFFFFF;\n",
              "      --disabled-bg-color: #3B4455;\n",
              "      --disabled-fill-color: #666;\n",
              "  }\n",
              "\n",
              "  .colab-df-quickchart {\n",
              "    background-color: var(--bg-color);\n",
              "    border: none;\n",
              "    border-radius: 50%;\n",
              "    cursor: pointer;\n",
              "    display: none;\n",
              "    fill: var(--fill-color);\n",
              "    height: 32px;\n",
              "    padding: 0;\n",
              "    width: 32px;\n",
              "  }\n",
              "\n",
              "  .colab-df-quickchart:hover {\n",
              "    background-color: var(--hover-bg-color);\n",
              "    box-shadow: 0 1px 2px rgba(60, 64, 67, 0.3), 0 1px 3px 1px rgba(60, 64, 67, 0.15);\n",
              "    fill: var(--button-hover-fill-color);\n",
              "  }\n",
              "\n",
              "  .colab-df-quickchart-complete:disabled,\n",
              "  .colab-df-quickchart-complete:disabled:hover {\n",
              "    background-color: var(--disabled-bg-color);\n",
              "    fill: var(--disabled-fill-color);\n",
              "    box-shadow: none;\n",
              "  }\n",
              "\n",
              "  .colab-df-spinner {\n",
              "    border: 2px solid var(--fill-color);\n",
              "    border-color: transparent;\n",
              "    border-bottom-color: var(--fill-color);\n",
              "    animation:\n",
              "      spin 1s steps(1) infinite;\n",
              "  }\n",
              "\n",
              "  @keyframes spin {\n",
              "    0% {\n",
              "      border-color: transparent;\n",
              "      border-bottom-color: var(--fill-color);\n",
              "      border-left-color: var(--fill-color);\n",
              "    }\n",
              "    20% {\n",
              "      border-color: transparent;\n",
              "      border-left-color: var(--fill-color);\n",
              "      border-top-color: var(--fill-color);\n",
              "    }\n",
              "    30% {\n",
              "      border-color: transparent;\n",
              "      border-left-color: var(--fill-color);\n",
              "      border-top-color: var(--fill-color);\n",
              "      border-right-color: var(--fill-color);\n",
              "    }\n",
              "    40% {\n",
              "      border-color: transparent;\n",
              "      border-right-color: var(--fill-color);\n",
              "      border-top-color: var(--fill-color);\n",
              "    }\n",
              "    60% {\n",
              "      border-color: transparent;\n",
              "      border-right-color: var(--fill-color);\n",
              "    }\n",
              "    80% {\n",
              "      border-color: transparent;\n",
              "      border-right-color: var(--fill-color);\n",
              "      border-bottom-color: var(--fill-color);\n",
              "    }\n",
              "    90% {\n",
              "      border-color: transparent;\n",
              "      border-bottom-color: var(--fill-color);\n",
              "    }\n",
              "  }\n",
              "</style>\n",
              "\n",
              "  <script>\n",
              "    async function quickchart(key) {\n",
              "      const quickchartButtonEl =\n",
              "        document.querySelector('#' + key + ' button');\n",
              "      quickchartButtonEl.disabled = true;  // To prevent multiple clicks.\n",
              "      quickchartButtonEl.classList.add('colab-df-spinner');\n",
              "      try {\n",
              "        const charts = await google.colab.kernel.invokeFunction(\n",
              "            'suggestCharts', [key], {});\n",
              "      } catch (error) {\n",
              "        console.error('Error during call to suggestCharts:', error);\n",
              "      }\n",
              "      quickchartButtonEl.classList.remove('colab-df-spinner');\n",
              "      quickchartButtonEl.classList.add('colab-df-quickchart-complete');\n",
              "    }\n",
              "    (() => {\n",
              "      let quickchartButtonEl =\n",
              "        document.querySelector('#df-ca679d8a-ef89-4fd1-9681-3b5872a2725d button');\n",
              "      quickchartButtonEl.style.display =\n",
              "        google.colab.kernel.accessAllowed ? 'block' : 'none';\n",
              "    })();\n",
              "  </script>\n",
              "</div>\n",
              "\n",
              "    </div>\n",
              "  </div>\n"
            ],
            "application/vnd.google.colaboratory.intrinsic+json": {
              "type": "dataframe",
              "variable_name": "data",
              "summary": "{\n  \"name\": \"data\",\n  \"rows\": 14396,\n  \"fields\": [\n    {\n      \"column\": \"Columna1\",\n      \"properties\": {\n        \"dtype\": \"number\",\n        \"std\": 4155,\n        \"min\": 0,\n        \"max\": 14395,\n        \"num_unique_values\": 14396,\n        \"samples\": [\n          10146,\n          9453,\n          3753\n        ],\n        \"semantic_type\": \"\",\n        \"description\": \"\"\n      }\n    },\n    {\n      \"column\": \"Enlaces\",\n      \"properties\": {\n        \"dtype\": \"string\",\n        \"num_unique_values\": 14396,\n        \"samples\": [\n          \"https://www.eltiempo.com/colombia/otras-ciudades/denuncian-asesinato-de-lider-indigena-en-zona-rural-de-caqueta-155310\",\n          \"https://www.eltiempo.com/bogota/profesores-de-universidades-hacen-llamado-a-lideres-a-dialogar-y-rectificar-el-rumbo-del-pais-439696\",\n          \"https://www.eltiempo.com/archivo/documento/CMS-4865951\"\n        ],\n        \"semantic_type\": \"\",\n        \"description\": \"\"\n      }\n    },\n    {\n      \"column\": \"T\\u00edtulo\",\n      \"properties\": {\n        \"dtype\": \"string\",\n        \"num_unique_values\": 13851,\n        \"samples\": [\n          \"\\u00bfPor qu\\u00e9 volvieron a subir los homicidios en el pa\\u00eds?\",\n          \"Siete carteles en M\\u00e9xico controlan el narcotr\\u00e1fico hacia Estados Unidos\",\n          \"Un a\\u00f1o despu\\u00e9s, no hay condena por crimen de chilena Ilse Amory\"\n        ],\n        \"semantic_type\": \"\",\n        \"description\": \"\"\n      }\n    },\n    {\n      \"column\": \"info\",\n      \"properties\": {\n        \"dtype\": \"string\",\n        \"num_unique_values\": 11412,\n        \"samples\": [\n          \"Un gol del delantero Lionard Pajoy, en el minuto 10 del primer tiempo, le \\n represent\\u00f3 al C\\u00facuta Deportivo los tres puntos, su segunda victoria en el \\n torneo Finalizaci\\u00f3n y la derrota del Junior, anoche en el Estadio Roberto \\n Mel\\u00e9ndez.\",\n          \"El equipo tuvo una jornada para el olvido, al ser goleado por el Eintracht Fr\\u00e1ncfort.\",\n          \"En \\u00faltimos cuatro meses, la guerrilla de las Farc ha recibido cuatro \\n hist\\u00f3ricos golpes militares y pol\\u00edticos que no solo la han debilitado ante \\n la comunidan nacional e internacional, sino que adem\\u00e1s han dejado al \\n descubierto su vulnerabilidad en dos temas clave: el pago de recompensas por \\n su cabecillas y el monitoreo a sus comunicaciones.\"\n        ],\n        \"semantic_type\": \"\",\n        \"description\": \"\"\n      }\n    },\n    {\n      \"column\": \"contenido\",\n      \"properties\": {\n        \"dtype\": \"string\",\n        \"num_unique_values\": 13202,\n        \"samples\": [\n          \"Buenos comentarios de la prensa y elogios fueron los que cosech\\u00f3 Fernando Uribe, quien el mi\\u00e9rcoles pasado anot\\u00f3 tres goles en la victoria de Toluca sobre Necaxa, en la Copa MX. El colombiano se convirti\\u00f3 en figura y recibi\\u00f3 aplausos de los aficionados de los 'Diablos Rojos'. Este jueves, los diarios en M\\u00e9xico resaltaron al exjugador de Millonarios y el paraguayo Jos\\u00e9 Saturnino Cardozo, su t\\u00e9cnico, se mostr\\u00f3 satisfecho con su labor. As\\u00ed manifest\\u00f3: \\\"Trajimos cuatro centro delanteros, sufrimos el torneo pasado y no me gust\\u00f3 para nada, el equipo dej\\u00f3 de hacer cosas importantes. Necesitamos jugadores que te marquen la diferencia en el \\u00e1rea como Fernando y por eso hay que destacar lo que hizo\\\". Cardozo, quien fue un temible goleador, sigui\\u00f3 con su discurso sobre el futbolista pereirano: \\\"Ac\\u00e1 lo bueno es que los goles de Fernando en el partido de Copa MX, le dar\\u00e1n m\\u00e1s confianza\\\". Toluca jugar\\u00e1 el pr\\u00f3ximo domingo frente a Pumas, en juego de la Liga de M\\u00e9xico, y se espera que sea comandado por Uribe en la zona ofensiva. Redacci\\u00f3n Futbolred Coronavirus en Colombia 09:31 p.m. Una cabina de desinfecci\\u00f3n manual para Barranquilla Jes\\u00fas David Vergara y \\u00c1ngel Garc\\u00eda decidieron elaborar un prototipo pa ... Valle del Cauca 07:50 p.m. Se han recogido cerca de 132 mil mercados en 'Donat\\u00f3n Valle Solidario' La meta es llegar a 200 mil mercados. Personas del com\\u00fan y empresas se ... Coronavirus en Colombia 07:36 p.m. Cuarentena en Medell\\u00edn: el diario de lo que pasa en la ciudad Gabriel Garc\\u00eda M\\u00e1rquez 07:15 p.m. Falleci\\u00f3 el 'Mago D\\u00e1vila', primer linotipista que tuvo Garc\\u00eda M\\u00e1rquez Barranquilla 06:43 p.m. Alias el 'Sat\\u00e1nico' busca la libertad por vencimiento de t\\u00e9rminos\",\n          \"La Empresa de Energ\\u00eda de Bogot\\u00e1 (EEB) report\\u00f3 un resultado financiero positivo al cierre del primer trimestre del a\\u00f1o, periodo en el que obtuvo utilidades por 540.005 millones de pesos, cifra que frente a los 224.397 millones de pesos del mismo lapso del 2011 refleja un aumento del 140 por ciento. De acuerdo con el reporte de la compa\\u00f1\\u00eda, en el balance incidieron las utilidades operacionales de sus compa\\u00f1\\u00edas controladas y, de forma importante, los dividendos decretados por sus compa\\u00f1\\u00edas participadas. En efecto, este \\u00faltimo rubro aument\\u00f3 175 por ciento en el primer trimestre, en parte por los mejores resultados operacionales de estas compa\\u00f1\\u00edas y tambi\\u00e9n porque en el mismo periodo del a\\u00f1o pasado Emgesa, Codensa y Gas Natural decretaron dividendos con base en los resultados de los \\u00faltimos meses del periodo inmediatamente anterior. Si estas firmas hubieran decretado sus dividendos con base en periodos anuales, la utilidad neta de la EEB en el primer trimestre de este a\\u00f1o habr\\u00eda crecido 4,2 por ciento. En el primer trimestre, las utilidades operacionales de la empresa capitalina crecieron 5,7 por ciento, principalmente producto de los mejores resultados de C\\u00e1lidda y la Transportadora de Gas Internacional (TGI). Calidda es una compa\\u00f1\\u00eda que est\\u00e1 en el negocio de la distribuci\\u00f3n de gas natural en la zona de Lima y Callao, en el Per\\u00fa, y duplic\\u00f3 en el 2011 el n\\u00famero de usuarios conectados a su red. Para este a\\u00f1o la peruana proyecta una inversi\\u00f3n de 105 millones de d\\u00f3lares, con lo cual podr\\u00e1 incrementar en un 82 por ciento el n\\u00famero de clientes conectados, con una meta de 105.000 conexiones para finalizar el 2012. AUMENTAN LAS INVERSIONES Y LOS NEGOCIOS TGI culmina un proceso de ampliaci\\u00f3n de su infraestructura, que demand\\u00f3 inversiones cercanas a los US$650 millones para aumentar su capacidad de transporte en 53%. Dos de las tres fases de la ampliaci\\u00f3n ya est\\u00e1n en operaci\\u00f3n, y la tercera iniciar\\u00eda operaciones antes de junio de este a\\u00f1o. La empresa destac\\u00f3 el respaldo que la actual junta directiva le dio a su plan de negocios, que fue decisivo para ganar tres subastas de transmisi\\u00f3n de energ\\u00eda en Colombia, cuya inversi\\u00f3n se estima en US$140 millones y en la presentaci\\u00f3n de una oferta para construir activos de transmisi\\u00f3n en Chile, con una inversi\\u00f3n valorada en US$736 millones. Miedo 11:00 p.m. Ejercite su mente en la cuarentena con este test de l\\u00f3gica matem\\u00e1tica Ponga a prueba esas clases de matem\\u00e1ticas del colegio y de la vida par ... Manizales 10:00 p.m. Ya se venden medicamentos de cannabis con f\\u00f3rmula m\\u00e9dica En farmacias especializadas de Colombia es posible acceder a medicamen ... Manizales 10:00 p.m. El gu\\u00eda de la salud mental del pueblo con m\\u00e1s casos de bipolaridad Coronavirus en Colombia 09:31 p.m. Una cabina de desinfecci\\u00f3n manual para Barranquilla Valle del Cauca 07:50 p.m. Se han recogido cerca de 132 mil mercados en 'Donat\\u00f3n Valle Solidario'\",\n          \"La Polic\\u00eda Fiscal y Aduanera adelant\\u00f3 los operativos en seis municipios vallecaucanos y uno caucano. De acuerdo con la Polic\\u00eda Fiscal y Aduanera, en la \\u00faltima semana se aprehendi\\u00f3 calzado, computadores, elementos de aseo, elementos industriales, joyer\\u00eda, perfumer\\u00eda, entre otros. Los operativos de control aduanero fueron realizados en Cali, Jamund\\u00ed, Tulu\\u00e1, Palmira, Candelaria, Yumbo, en el Valle; y Puerto Tejada en el Cauca. La Polic\\u00eda inform\\u00f3 que en la continuando la ofensiva contra el contrabando en esta regi\\u00f3n del pa\\u00eds se logr\\u00f3 la aprehensi\\u00f3n de mercanc\\u00eda por un valor aproximado a los 1.481 millones de pesos. Fueron decomisados 7.198 materiales de aseo por 36 millones de pesos; 2.724 pares de zapatos por 48 millones; 11.840 juguetes por 5'4 millones;  129.193 accesorios de celular por 604 millones;  239.788 textiles por 629 millones; 10.237 art\\u00edculos de joyer\\u00eda por 122 millones; adem\\u00e1s de computadores, perfumer\\u00eda y elementos industriales. Las indagaciones se\\u00f1alan que los productos fueron tra\\u00eddos, al parecer, \\\"de China, escala en Panam\\u00e1 e ingresado al pa\\u00eds por el puerto de Buenaventura. Se presume que ser\\u00eda distribuida a nivel nacional especialmente en Cali y no presentaba la documentaci\\u00f3n requerida para su ingreso al territorio\\\", seg\\u00fan el informe. La Polic\\u00eda Fiscal y Aduanera aseguraz que este operativo se constituye en el cierre al paso de contrabando hacia la capital del Valle del Cauca. Miedo 11:19 p.m. Ejercite su mente en la cuarentena con este test de l\\u00f3gica matem\\u00e1tica Ponga a prueba esas clases de matem\\u00e1ticas del colegio y de la vida par ... Manizales 10:00 p.m. Ya se venden medicamentos de cannabis con f\\u00f3rmula m\\u00e9dica En farmacias especializadas de Colombia es posible acceder a medicamen ... Manizales 10:00 p.m. El gu\\u00eda de la salud mental del pueblo con m\\u00e1s casos de bipolaridad Coronavirus en Colombia 09:31 p.m. Una cabina de desinfecci\\u00f3n manual para Barranquilla Valle del Cauca 07:50 p.m. Se han recogido cerca de 132 mil mercados en 'Donat\\u00f3n Valle Solidario'\"\n        ],\n        \"semantic_type\": \"\",\n        \"description\": \"\"\n      }\n    },\n    {\n      \"column\": \"Etiqueta\",\n      \"properties\": {\n        \"dtype\": \"category\",\n        \"num_unique_values\": 26,\n        \"samples\": [\n          \"deportes\",\n          \"mas-contenido\",\n          \"colombia\"\n        ],\n        \"semantic_type\": \"\",\n        \"description\": \"\"\n      }\n    }\n  ]\n}"
            }
          },
          "metadata": {},
          "execution_count": 3
        }
      ],
      "source": [
        "# Importar las bibliotecas necesarias\n",
        "import pandas as pd\n",
        "import nltk\n",
        "from nltk.tokenize import word_tokenize\n",
        "import string\n",
        "import re\n",
        "from sklearn.feature_extraction.text import TfidfVectorizer\n",
        "from gensim.models import Word2Vec\n",
        "\n",
        "# Descargar recursos de NLTK\n",
        "nltk.download('punkt')\n",
        "nltk.download('stopwords')\n",
        "from nltk.corpus import stopwords\n",
        "\n",
        "# Cargar el archivo de datos\n",
        "# file_path = '../../Datos/Datos Crudos/Noticias.xlsx'\n",
        "file_path = 'Noticias.xlsx'\n",
        "data = pd.read_excel(file_path)\n",
        "\n",
        "# Mostrar una vista previa de los datos\n",
        "data.head()"
      ]
    },
    {
      "cell_type": "markdown",
      "source": [
        "## Analisis exploratorio"
      ],
      "metadata": {
        "id": "bDfJfTbwFImJ"
      },
      "id": "bDfJfTbwFImJ"
    },
    {
      "cell_type": "code",
      "source": [
        "import seaborn as sns\n",
        "import matplotlib.pyplot as plt\n",
        "category_counts = data['Etiqueta'].value_counts().index.tolist()\n",
        "plt.figure(figsize=(12, 6))\n",
        "plt.subplot(2, 1, 1)\n",
        "sns.countplot(x='Etiqueta', data=data, order=category_counts)\n",
        "plt.xticks(rotation=45, ha='right', fontsize=8)\n",
        "plt.show()\n",
        "\n",
        "print('No tendremos en cuenta la etiqueta de archivo ya que esta no tiene significancia')\n",
        "\n",
        "plt.figure(figsize=(12, 6))\n",
        "plt.subplot(2, 1, 2)\n",
        "data1= data[data['Etiqueta'] != 'archivo']\n",
        "category_counts = data1['Etiqueta'].value_counts().index.tolist()\n",
        "sns.countplot(x='Etiqueta', data=data1, order=category_counts)\n",
        "plt.xticks(rotation=45, ha='right', fontsize=8)\n",
        "plt.show()"
      ],
      "metadata": {
        "colab": {
          "base_uri": "https://localhost:8080/",
          "height": 625
        },
        "id": "JtmxZUrLE5LJ",
        "outputId": "35692a59-748a-40d3-a499-8d2ea78f6f81"
      },
      "id": "JtmxZUrLE5LJ",
      "execution_count": 4,
      "outputs": [
        {
          "output_type": "display_data",
          "data": {
            "text/plain": [
              "<Figure size 1200x600 with 1 Axes>"
            ],
            "image/png": "[encoded data removed]"
          },
          "metadata": {}
        },
        {
          "output_type": "stream",
          "name": "stdout",
          "text": [
            "No tendremos en cuenta la etiqueta de archivo ya que esta no tiene significancia\n"
          ]
        },
        {
          "output_type": "display_data",
          "data": {
            "text/plain": [
              "<Figure size 1200x600 with 1 Axes>"
            ],
            "image/png": "[encoded data removed]"
          },
          "metadata": {}
        }
      ]
    },
    {
      "cell_type": "markdown",
      "source": [
        "#Ejercicio 2\n",
        "\n",
        "#Filtrado de Datos\n",
        "\n",
        "**Objetivo:** Limitar el conjunto de datos a las categorías relevantes para garantizar que el modelo se entrene y evalúe en temas especializados.  \n",
        "**Acciones:**\n",
        "* Excluir las noticias que pertenecen a la categoría \"archivo\" y cualquier otra que no esté en las categorías de deportes, cultura, economía y justicia.\n",
        "* Asegurarse de que el conjunto de datos resultante tenga una distribución equilibrada para estas categorías, en la medida de lo posible."
      ],
      "metadata": {
        "id": "g4-BKke-LisJ"
      },
      "id": "g4-BKke-LisJ"
    },
    {
      "cell_type": "code",
      "source": [
        "filt_etie = ['deportes', 'cultura', 'economia', 'justicia']\n",
        "data2= data[data['Etiqueta'].isin(filt_etie)]\n",
        "\n",
        "category_counts = data2['Etiqueta'].value_counts().index.tolist()\n",
        "sns.countplot(x='Etiqueta', data=data2, order=category_counts)\n",
        "plt.xticks(rotation=45, ha='right', fontsize=8)\n",
        "plt.show()\n",
        "data2.shape"
      ],
      "metadata": {
        "colab": {
          "base_uri": "https://localhost:8080/",
          "height": 498
        },
        "id": "AO7rs2rlLQvt",
        "outputId": "26756c8d-f93e-473d-c7ef-1c560d00c781"
      },
      "id": "AO7rs2rlLQvt",
      "execution_count": 5,
      "outputs": [
        {
          "output_type": "display_data",
          "data": {
            "text/plain": [
              "<Figure size 640x480 with 1 Axes>"
            ],
            "image/png": "[encoded data removed]"
          },
          "metadata": {}
        },
        {
          "output_type": "execute_result",
          "data": {
            "text/plain": [
              "(1867, 6)"
            ]
          },
          "metadata": {},
          "execution_count": 5
        }
      ]
    },
    {
      "cell_type": "markdown",
      "source": [
        "**Analisis  de distrubucion igualitaria**"
      ],
      "metadata": {
        "id": "SuEeQCaaMDlj"
      },
      "id": "SuEeQCaaMDlj"
    },
    {
      "cell_type": "code",
      "source": [
        "import numpy as np\n",
        "distr_etiq = data2['Etiqueta'].value_counts()\n",
        "tot_eti = np.sum(distr_etiq)\n",
        "por_etiq = [numero / tot_eti for numero in distr_etiq]\n",
        "\n",
        "def in_gini(df):\n",
        "    gini = sum(x * (1 - x) for x in df)\n",
        "    return gini\n",
        "#evaluacion de la Proporcion\n",
        "\n",
        "if  np.sum(por_etiq)== 1:\n",
        "    print(f\"El vector de proporcion suma {np.sum(por_etiq)} ,por lo que puede ser usado para calcular el indice de Gini\\n\")\n",
        "    print(f\"Para el caso del vector\\n {por_etiq}\\n se obtiene un Indice de gini {round(in_gini(por_etiq),3)}\\n\")\n",
        "    x =0\n",
        "    vect =[]\n",
        "    for x in range(len(por_etiq)):\n",
        "        vect.append(1/len(por_etiq))\n",
        "        x= x+1\n",
        "    print(f\"Un indice optimo para estas {len(por_etiq)} etiquetas es de {round(in_gini(vect),3)}\\n Por lo que comparativamente con la distribucion de las etiquetas escogidas el indice de gini no es muy distante, por lo que podemos usar este Dataframe filtrado para entrenal los modelos\")\n"
      ],
      "metadata": {
        "id": "ETlBKubbMD3l",
        "outputId": "f574058b-296f-4db4-8fbf-3a14e41efab2",
        "colab": {
          "base_uri": "https://localhost:8080/"
        }
      },
      "id": "ETlBKubbMD3l",
      "execution_count": 6,
      "outputs": [
        {
          "output_type": "stream",
          "name": "stdout",
          "text": [
            "El vector de proporcion suma 1.0 ,por lo que puede ser usado para calcular el indice de Gini\n",
            "\n",
            "Para el caso del vector\n",
            " [0.3893947509373326, 0.2303160149973219, 0.19657204070701662, 0.18371719335832887]\n",
            " se obtiene un Indice de gini 0.723\n",
            "\n",
            "Un indice optimo para estas 4 etiquetas es de 0.75\n",
            " Por lo que comparativamente con la distribucion de las etiquetas escogidas el indice de gini no es muy distante, por lo que podemos usar este Dataframe filtrado para entrenal los modelos\n"
          ]
        }
      ]
    },
    {
      "cell_type": "markdown",
      "id": "9b11913e",
      "metadata": {
        "id": "9b11913e"
      },
      "source": [
        "# Ejercicio 3\n",
        "\n",
        "#Preprocesamiento de Texto\n",
        "\n",
        "**Objetivo:** Preparar los datos textuales para el entrenamiento del modelo.  \n",
        "**Acciones:**\n",
        "* Convertir todo el texto a minúsculas para uniformidad.\n",
        "* Eliminar puntuación y números para reducir el ruido en los datos.\n",
        "* Eliminar palabras comunes (stop words) que no aportan significado específico al análisis.\n",
        "* Tokenizar el texto, es decir, dividir el texto en palabras individuales.\n",
        "* Aplicar padding a las secuencias de palabras para que todas tengan la misma longitud, facilitando el procesamiento por las redes neuronales."
      ]
    },
    {
      "cell_type": "code",
      "execution_count": 7,
      "id": "3f286e36",
      "metadata": {
        "colab": {
          "base_uri": "https://localhost:8080/",
          "height": 223
        },
        "id": "3f286e36",
        "outputId": "36e09cde-690d-4c95-c101-7a16724a0e97"
      },
      "outputs": [
        {
          "output_type": "display_data",
          "data": {
            "text/plain": [
              "                                               contenido  \\\n",
              "10487  Citas: “Los crímenes de violencia sexual comet...   \n",
              "10488  Con motivo de la celebración de los 20 años de...   \n",
              "10489  El cuadro Busto de mujer, del artista español ...   \n",
              "10490  El Carnaval de las Artes, organizado en Barran...   \n",
              "10491  Louise du Toit, filósofa; el doctor Denis Mukw...   \n",
              "\n",
              "                                  contenido_preprocesado  \n",
              "10487  citas “los crímenes de violencia sexual cometi...  \n",
              "10488  con motivo de la celebración de los  años de l...  \n",
              "10489  el cuadro busto de mujer del artista español p...  \n",
              "10490  el carnaval de las artes organizado en barranq...  \n",
              "10491  louise du toit filósofa el doctor denis mukweg...  "
            ],
            "text/html": [
              "\n",
              "  <div id=\"df-5f49a303-5c13-4d88-9719-7aa463a5bc0b\" class=\"colab-df-container\">\n",
              "    <div>\n",
              "<style scoped>\n",
              "    .dataframe tbody tr th:only-of-type {\n",
              "        vertical-align: middle;\n",
              "    }\n",
              "\n",
              "    .dataframe tbody tr th {\n",
              "        vertical-align: top;\n",
              "    }\n",
              "\n",
              "    .dataframe thead th {\n",
              "        text-align: right;\n",
              "    }\n",
              "</style>\n",
              "<table border=\"1\" class=\"dataframe\">\n",
              "  <thead>\n",
              "    <tr style=\"text-align: right;\">\n",
              "      <th></th>\n",
              "      <th>contenido</th>\n",
              "      <th>contenido_preprocesado</th>\n",
              "    </tr>\n",
              "  </thead>\n",
              "  <tbody>\n",
              "    <tr>\n",
              "      <th>10487</th>\n",
              "      <td>Citas: “Los crímenes de violencia sexual comet...</td>\n",
              "      <td>citas “los crímenes de violencia sexual cometi...</td>\n",
              "    </tr>\n",
              "    <tr>\n",
              "      <th>10488</th>\n",
              "      <td>Con motivo de la celebración de los 20 años de...</td>\n",
              "      <td>con motivo de la celebración de los  años de l...</td>\n",
              "    </tr>\n",
              "    <tr>\n",
              "      <th>10489</th>\n",
              "      <td>El cuadro Busto de mujer, del artista español ...</td>\n",
              "      <td>el cuadro busto de mujer del artista español p...</td>\n",
              "    </tr>\n",
              "    <tr>\n",
              "      <th>10490</th>\n",
              "      <td>El Carnaval de las Artes, organizado en Barran...</td>\n",
              "      <td>el carnaval de las artes organizado en barranq...</td>\n",
              "    </tr>\n",
              "    <tr>\n",
              "      <th>10491</th>\n",
              "      <td>Louise du Toit, filósofa; el doctor Denis Mukw...</td>\n",
              "      <td>louise du toit filósofa el doctor denis mukweg...</td>\n",
              "    </tr>\n",
              "  </tbody>\n",
              "</table>\n",
              "</div>\n",
              "    <div class=\"colab-df-buttons\">\n",
              "\n",
              "  <div class=\"colab-df-container\">\n",
              "    <button class=\"colab-df-convert\" onclick=\"convertToInteractive('df-5f49a303-5c13-4d88-9719-7aa463a5bc0b')\"\n",
              "            title=\"Convert this dataframe to an interactive table.\"\n",
              "            style=\"display:none;\">\n",
              "\n",
              "  <svg xmlns=\"http://www.w3.org/2000/svg\" height=\"24px\" viewBox=\"0 -960 960 960\">\n",
              "    <path d=\"M120-120v-720h720v720H120Zm60-500h600v-160H180v160Zm220 220h160v-160H400v160Zm0 220h160v-160H400v160ZM180-400h160v-160H180v160Zm440 0h160v-160H620v160ZM180-180h160v-160H180v160Zm440 0h160v-160H620v160Z\"/>\n",
              "  </svg>\n",
              "    </button>\n",
              "\n",
              "  <style>\n",
              "    .colab-df-container {\n",
              "      display:flex;\n",
              "      gap: 12px;\n",
              "    }\n",
              "\n",
              "    .colab-df-convert {\n",
              "      background-color: #E8F0FE;\n",
              "      border: none;\n",
              "      border-radius: 50%;\n",
              "      cursor: pointer;\n",
              "      display: none;\n",
              "      fill: #1967D2;\n",
              "      height: 32px;\n",
              "      padding: 0 0 0 0;\n",
              "      width: 32px;\n",
              "    }\n",
              "\n",
              "    .colab-df-convert:hover {\n",
              "      background-color: #E2EBFA;\n",
              "      box-shadow: 0px 1px 2px rgba(60, 64, 67, 0.3), 0px 1px 3px 1px rgba(60, 64, 67, 0.15);\n",
              "      fill: #174EA6;\n",
              "    }\n",
              "\n",
              "    .colab-df-buttons div {\n",
              "      margin-bottom: 4px;\n",
              "    }\n",
              "\n",
              "    [theme=dark] .colab-df-convert {\n",
              "      background-color: #3B4455;\n",
              "      fill: #D2E3FC;\n",
              "    }\n",
              "\n",
              "    [theme=dark] .colab-df-convert:hover {\n",
              "      background-color: #434B5C;\n",
              "      box-shadow: 0px 1px 3px 1px rgba(0, 0, 0, 0.15);\n",
              "      filter: drop-shadow(0px 1px 2px rgba(0, 0, 0, 0.3));\n",
              "      fill: #FFFFFF;\n",
              "    }\n",
              "  </style>\n",
              "\n",
              "    <script>\n",
              "      const buttonEl =\n",
              "        document.querySelector('#df-5f49a303-5c13-4d88-9719-7aa463a5bc0b button.colab-df-convert');\n",
              "      buttonEl.style.display =\n",
              "        google.colab.kernel.accessAllowed ? 'block' : 'none';\n",
              "\n",
              "      async function convertToInteractive(key) {\n",
              "        const element = document.querySelector('#df-5f49a303-5c13-4d88-9719-7aa463a5bc0b');\n",
              "        const dataTable =\n",
              "          await google.colab.kernel.invokeFunction('convertToInteractive',\n",
              "                                                    [key], {});\n",
              "        if (!dataTable) return;\n",
              "\n",
              "        const docLinkHtml = 'Like what you see? Visit the ' +\n",
              "          '<a target=\"_blank\" href=https://colab.research.google.com/notebooks/data_table.ipynb>data table notebook</a>'\n",
              "          + ' to learn more about interactive tables.';\n",
              "        element.innerHTML = '';\n",
              "        dataTable['output_type'] = 'display_data';\n",
              "        await google.colab.output.renderOutput(dataTable, element);\n",
              "        const docLink = document.createElement('div');\n",
              "        docLink.innerHTML = docLinkHtml;\n",
              "        element.appendChild(docLink);\n",
              "      }\n",
              "    </script>\n",
              "  </div>\n",
              "\n",
              "\n",
              "<div id=\"df-761e3aef-6656-4cc8-a7a9-5223e2556a17\">\n",
              "  <button class=\"colab-df-quickchart\" onclick=\"quickchart('df-761e3aef-6656-4cc8-a7a9-5223e2556a17')\"\n",
              "            title=\"Suggest charts\"\n",
              "            style=\"display:none;\">\n",
              "\n",
              "<svg xmlns=\"http://www.w3.org/2000/svg\" height=\"24px\"viewBox=\"0 0 24 24\"\n",
              "     width=\"24px\">\n",
              "    <g>\n",
              "        <path d=\"M19 3H5c-1.1 0-2 .9-2 2v14c0 1.1.9 2 2 2h14c1.1 0 2-.9 2-2V5c0-1.1-.9-2-2-2zM9 17H7v-7h2v7zm4 0h-2V7h2v10zm4 0h-2v-4h2v4z\"/>\n",
              "    </g>\n",
              "</svg>\n",
              "  </button>\n",
              "\n",
              "<style>\n",
              "  .colab-df-quickchart {\n",
              "      --bg-color: #E8F0FE;\n",
              "      --fill-color: #1967D2;\n",
              "      --hover-bg-color: #E2EBFA;\n",
              "      --hover-fill-color: #174EA6;\n",
              "      --disabled-fill-color: #AAA;\n",
              "      --disabled-bg-color: #DDD;\n",
              "  }\n",
              "\n",
              "  [theme=dark] .colab-df-quickchart {\n",
              "      --bg-color: #3B4455;\n",
              "      --fill-color: #D2E3FC;\n",
              "      --hover-bg-color: #434B5C;\n",
              "      --hover-fill-color: #FFFFFF;\n",
              "      --disabled-bg-color: #3B4455;\n",
              "      --disabled-fill-color: #666;\n",
              "  }\n",
              "\n",
              "  .colab-df-quickchart {\n",
              "    background-color: var(--bg-color);\n",
              "    border: none;\n",
              "    border-radius: 50%;\n",
              "    cursor: pointer;\n",
              "    display: none;\n",
              "    fill: var(--fill-color);\n",
              "    height: 32px;\n",
              "    padding: 0;\n",
              "    width: 32px;\n",
              "  }\n",
              "\n",
              "  .colab-df-quickchart:hover {\n",
              "    background-color: var(--hover-bg-color);\n",
              "    box-shadow: 0 1px 2px rgba(60, 64, 67, 0.3), 0 1px 3px 1px rgba(60, 64, 67, 0.15);\n",
              "    fill: var(--button-hover-fill-color);\n",
              "  }\n",
              "\n",
              "  .colab-df-quickchart-complete:disabled,\n",
              "  .colab-df-quickchart-complete:disabled:hover {\n",
              "    background-color: var(--disabled-bg-color);\n",
              "    fill: var(--disabled-fill-color);\n",
              "    box-shadow: none;\n",
              "  }\n",
              "\n",
              "  .colab-df-spinner {\n",
              "    border: 2px solid var(--fill-color);\n",
              "    border-color: transparent;\n",
              "    border-bottom-color: var(--fill-color);\n",
              "    animation:\n",
              "      spin 1s steps(1) infinite;\n",
              "  }\n",
              "\n",
              "  @keyframes spin {\n",
              "    0% {\n",
              "      border-color: transparent;\n",
              "      border-bottom-color: var(--fill-color);\n",
              "      border-left-color: var(--fill-color);\n",
              "    }\n",
              "    20% {\n",
              "      border-color: transparent;\n",
              "      border-left-color: var(--fill-color);\n",
              "      border-top-color: var(--fill-color);\n",
              "    }\n",
              "    30% {\n",
              "      border-color: transparent;\n",
              "      border-left-color: var(--fill-color);\n",
              "      border-top-color: var(--fill-color);\n",
              "      border-right-color: var(--fill-color);\n",
              "    }\n",
              "    40% {\n",
              "      border-color: transparent;\n",
              "      border-right-color: var(--fill-color);\n",
              "      border-top-color: var(--fill-color);\n",
              "    }\n",
              "    60% {\n",
              "      border-color: transparent;\n",
              "      border-right-color: var(--fill-color);\n",
              "    }\n",
              "    80% {\n",
              "      border-color: transparent;\n",
              "      border-right-color: var(--fill-color);\n",
              "      border-bottom-color: var(--fill-color);\n",
              "    }\n",
              "    90% {\n",
              "      border-color: transparent;\n",
              "      border-bottom-color: var(--fill-color);\n",
              "    }\n",
              "  }\n",
              "</style>\n",
              "\n",
              "  <script>\n",
              "    async function quickchart(key) {\n",
              "      const quickchartButtonEl =\n",
              "        document.querySelector('#' + key + ' button');\n",
              "      quickchartButtonEl.disabled = true;  // To prevent multiple clicks.\n",
              "      quickchartButtonEl.classList.add('colab-df-spinner');\n",
              "      try {\n",
              "        const charts = await google.colab.kernel.invokeFunction(\n",
              "            'suggestCharts', [key], {});\n",
              "      } catch (error) {\n",
              "        console.error('Error during call to suggestCharts:', error);\n",
              "      }\n",
              "      quickchartButtonEl.classList.remove('colab-df-spinner');\n",
              "      quickchartButtonEl.classList.add('colab-df-quickchart-complete');\n",
              "    }\n",
              "    (() => {\n",
              "      let quickchartButtonEl =\n",
              "        document.querySelector('#df-761e3aef-6656-4cc8-a7a9-5223e2556a17 button');\n",
              "      quickchartButtonEl.style.display =\n",
              "        google.colab.kernel.accessAllowed ? 'block' : 'none';\n",
              "    })();\n",
              "  </script>\n",
              "</div>\n",
              "\n",
              "    </div>\n",
              "  </div>\n"
            ],
            "application/vnd.google.colaboratory.intrinsic+json": {
              "type": "dataframe",
              "summary": "{\n  \"name\": \"print(f'Dimensiones de los datos: {data\",\n  \"rows\": 5,\n  \"fields\": [\n    {\n      \"column\": \"contenido\",\n      \"properties\": {\n        \"dtype\": \"string\",\n        \"num_unique_values\": 5,\n        \"samples\": [\n          \"Con motivo de la celebraci\\u00f3n de los 20 a\\u00f1os de la ense\\u00f1anza de la danza oriental en Colombia, llega Dakini, danzarina de luz, un festival m\\u00e1gico que trae lo mejor de la danza de Oriente. Este espect\\u00e1culo, que honra el esp\\u00edritu femenino, contar\\u00e1 con m\\u00e1s de 300 bailarinas en escena y pondr\\u00e1 a bailar a Bogot\\u00e1 con ritmos de la India y Egipto. Antonina Canal, sanadora hol\\u00edstica, conferencista, bailarina, empresaria y madre, habl\\u00f3 con EL TIEMPO acerca de su trayectoria en la ense\\u00f1anza de la sabidur\\u00eda de la danza y de su \\u2018show\\u2019 Dakini que interpretar\\u00e1 con \\u00d3scar Flores, que fue nombrado el \\u2018Pr\\u00edncipe de la danza\\u2019 a nivel mundial y Dariya Mitskevich, la figura m\\u00e1s importante de la danza oriental en el mundo. \\u00bfCu\\u00e1ndo naci\\u00f3 el inter\\u00e9s por los temas esot\\u00e9ricos y espirituales? Hace 25 a\\u00f1os, cuando fui a la India. All\\u00e1 estudi\\u00e9 yoga, meditaci\\u00f3n y luego pas\\u00e9 a vivir a Egipto. Tambi\\u00e9n hice un recorrido por Turqu\\u00eda, Marruecos y aprend\\u00ed toda la sabidur\\u00eda de la danza. La gente piensa que la danza \\u00e1rabe es un baile sensual pero esta danza tiene un trabajo terap\\u00e9utico y espiritual muy poderoso. Despu\\u00e9s de vivir en Oriente regres\\u00e9 a Colombia y abr\\u00ed mi academia Prem Shakti en 1999, que es un lugar que se basa en el arte de sanar y celebrar la energ\\u00eda femenina a trav\\u00e9s de las danzas orientales \\u00e1rabe, hind\\u00fa, fusi\\u00f3n, yoga y terapias como aura-soma. Me certifiqu\\u00e9 en aura-soma en Inglaterra, que es la terapia de sanaci\\u00f3n a trav\\u00e9s del color. \\u00bfSe puede alcanzar la iluminaci\\u00f3n a trav\\u00e9s de la danza \\u00e1rabe? En antiguo Egipto e India la danza era un camino de iluminaci\\u00f3n, que es lo que mucha gente no sabe. Com\\u00fanmente se piensa que la danza \\u00e1rabe es un baile sensual y ya. Aunque s\\u00ed es el baile m\\u00e1s sensual del mundo y es absolutamente femenino, la danza \\u00e1rabe tambi\\u00e9n hace un trabajo de \\u2018chakras\\u2019, que son los centros energ\\u00e9ticos del cuerpo, donde se unen todos los aspectos de la diosa. En la academia armonizamos todas las mujeres que llevamos dentro. El sistema \\u2018prem shakti\\u2019 tiene todo un trabajo interno, no es solo mover la cadera como en la rumba, por ejemplo. Aqu\\u00ed, adem\\u00e1s de la clase de danza que dura hora y media, hacemos un trabajo de alineaci\\u00f3n de \\u2018chakras\\u2019 y sesiones de relajaci\\u00f3n profunda. \\u00bfCu\\u00e1les son los beneficios de la danza \\u00e1rabe? La liberaci\\u00f3n del estr\\u00e9s, la alineaci\\u00f3n de los \\u2018chakras\\u2019, la armonizaci\\u00f3n del cuerpo f\\u00edsico, emocional, mental y espiritual y un trabajo grande de autoestima, empoderamiento, sensualidad y feminidad en una era donde la mujer est\\u00e1 asumiendo unos roles demasiado masculinos. Estos roles son, por ejemplo, la mujer macho e hist\\u00e9rica, la mujer intelectual que solo usa la mente, la mujer superficial y dram\\u00e1tica. Tambi\\u00e9n hay un trabajo de meditaci\\u00f3n y concentraci\\u00f3n, que en la danza \\u00e1rabe es meditar en movimiento. La danza \\u00e1rabe no tiene l\\u00edmite de edad, talla y profesi\\u00f3n, es un espacio abierto para todas las mujeres y un trabajo profundo de armonizaci\\u00f3n y paz. Es un estilo de vida, diferente a la vida estresada que llevamos en el mundo contempor\\u00e1neo. \\u00bfPor qu\\u00e9 cree que en Occidente no estamos tan desarrollados espiritualmente como en Oriente? Porque en Occidente somos muy mentales. Est\\u00e1 comprobado y, en mi libro lo hablo, que usamos m\\u00e1s el hemisferio izquierdo del cerebro que se relaciona con lo racional, mental y lineal. Es como si vivi\\u00e9ramos para ir de la casa al trabajo para pagar cuentas. No usamos mucho el hemisferio derecho, que es la parte intuitiva, sensual y creativa. Necesitamos abrirnos a un trabajo espiritual, art\\u00edstico y arm\\u00f3nico. Tenemos que pasar de pensar a sentir. El arte, la danza, la m\\u00fasica y la meditaci\\u00f3n nos ayudan a abrir este hemisferio. \\u00bfLos hombres tambi\\u00e9n puede practicar la danza \\u00e1rabe y despertar su dios interior? Claro que s\\u00ed. En mi pr\\u00f3ximo \\u2018show\\u2019, Dakini, danzarina de luz, tengo 330 bailarinas en escena y 3 hombres. Lo que quiero decir con eso es que los hombres tambi\\u00e9n necesitan bailar. Se piensa que la danza \\u00e1rabe es algo m\\u00e1s femenino, pero los hombres tambi\\u00e9n necesitan trabajar su lado femenino, porque ellos est\\u00e1n m\\u00e1s bloqueados que las mujeres. Hay bailes para los hombres, por ejemplo el Bollywood, la danza de la India, en la que no hay movimiento de cadera sino de hombros. Las mujeres despiertan a su diosa interior a trav\\u00e9s del autoestima, el primer paso de empoderamiento femenino. Los pasos para despertar a la diosa interior los menciono en mi libro \\u2018El despertar de la diosa\\u2019. El pr\\u00f3ximo 9 y 10 de junio se presentar\\u00e1 el 18.\\u00b0 Festival Internacional de Danza Oriental y Fusi\\u00f3n Dakini, danzarina de luz. \\u00bfC\\u00f3mo fue la preparaci\\u00f3n para este festival? La puesta en escena de Dakini es tipo danza-teatro que tiene un guion y una historia, que trata de c\\u00f3mo las mujeres pueden iluminarse a trav\\u00e9s de la danza. Coordinamos a 300 bailarinas, con m\\u00e1s de 500 vestuarios, hechos a mano en Colombia. Cada baile tiene un significado y un color. Presentamos m\\u00e1s de 30 bailes, con m\\u00e1s de 25 ritmos \\u00e1rabes y tambi\\u00e9n tenemos fusiones nuevas como la samba \\u00e1rabe, el flamenco \\u00e1rabe y el \\u2018jazz\\u2019 \\u00e1rabe; cada a\\u00f1o mostramos algo nuevo. Estamos celebrando 20 a\\u00f1os de danza oriental en Colombia y de Prem Shakti, que es la academia pionera de danza oriental en el pa\\u00eds. Cuando yo empec\\u00e9 no hab\\u00eda nadie haciendo danza de este tipo, ni siquiera restaurantes \\u00e1rabes ten\\u00edan esta iniciativa. Yo empec\\u00e9 a dictar clases de danza \\u00e1rabe en 1997 y en 1999 fund\\u00e9 la academia, por eso se est\\u00e1n celebrando 20 a\\u00f1os. \\u00bfQu\\u00e9 significa Prem Shakti? Prem Shakti son dos palabras en s\\u00e1nscrito. Prem significa amor supremo y Shakti es el principio creativo femenino del universo. La academia tambi\\u00e9n tiene un programa de servicio social. Hace tres a\\u00f1os trabajo con el Ministerio de Cultura dando diplomados de terapias a mujeres desmovilizadas con la Agencia Colombiana para la Reintegraci\\u00f3n, dentro del marco de la cultura de paz. Este a\\u00f1o estamos trabajando particularmente en Kennedy (Bogot\\u00e1) y el servicio que hacemos es gratis. El festival de danza oriental se realizar\\u00e1 el 9 y 10 de junio a las 8 p. m en el Teatro Colsubsidio de Bogot\\u00e1. M\\u00e1s informaci\\u00f3n: www.premshakti.co. Instagram:@antoninacanal. CATALINA CABRERA MANTILLA Escuela de Periodismo Multimedia EL TIEMPO Miedo 11:19 p.m. Ejercite su mente en la cuarentena con este test de l\\u00f3gica matem\\u00e1tica Ponga a prueba esas clases de matem\\u00e1ticas del colegio y de la vida par ... Manizales 10:00 p.m. Ya se venden medicamentos de cannabis con f\\u00f3rmula m\\u00e9dica En farmacias especializadas de Colombia es posible acceder a medicamen ... Manizales 10:00 p.m. El gu\\u00eda de la salud mental del pueblo con m\\u00e1s casos de bipolaridad Coronavirus en Colombia 09:31 p.m. Una cabina de desinfecci\\u00f3n manual para Barranquilla Valle del Cauca 07:50 p.m. Se han recogido cerca de 132 mil mercados en 'Donat\\u00f3n Valle Solidario'\",\n          \"Louise du Toit, fil\\u00f3sofa; el doctor Denis Mukwege, premio Nobel de la 2018, y la soprano Betty Garc\\u00e9s, originaria de Buenaventura, estar\\u00e1n en el ciclo \\u2018Violencia sexual e injusticia testimonial\\u2019, que se lleva a cabo el 14 y 15 en el contramonumento Fragmentos (Carrera 7 # 6b-30). La entrada es libre y las actividades se realizar\\u00e1n en las horas de la tarde para que todos tengan la oportunidad de conocer m\\u00e1s sobre violencia sexual en conflicto armado. La primera charla ser\\u00e1 en mi\\u00e9rcoles y estar\\u00e1 a cargo de la profesora de Filosof\\u00eda de la Universidad Stellenbosch en Sud\\u00e1frica, Louise du Toit, quien enfocar\\u00e1 su relato a la necesidad de la reconciliaci\\u00f3n y la restauraci\\u00f3n despu\\u00e9s de la violencia y el conflicto armado. El jueves se entregar\\u00e1 el informe de la Red de Mujeres V\\u00edctimas y profesionales ante la JEP, este evento le ofrece la oportunidad de rescatar y narrar desde las v\\u00edctimas, que paso, y dar el reconocimiento de este tipo de violencias. Seguido, estar\\u00e1 tambi\\u00e9n Denis Mukwege, m\\u00e9dico ginec\\u00f3logo y defensor de los derechos humanos, que ha trabajado con sobrevivientes de violencia sexual y ha liderado la atenci\\u00f3n integral para las v\\u00edctimas de este delito en la Rep\\u00fablica Democr\\u00e1tica del Congo y en otros pa\\u00edses con conflicto armado. Luego, Betty Garc\\u00e9s artista vallecaucana, que obtuvo en el 2012 el t\\u00edtulo de maestra en artes de la Escuela Superior de M\\u00fasica de Colonia (Alemania), con especializaci\\u00f3n en \\u00f3pera, con su impresionante voz de soprano, ofrecer\\u00e1 un recital acompa\\u00f1ada en el piano por Mauricio Arias Esguerra. \\u201cFragmentos\\u201d es un espacio creado por Doris Salcedo escultora colombiana, con el que quiso rendir homenaje a las v\\u00edctimas del conflicto en el pa\\u00eds. Lo construyo con 37 toneladas de armamento, que fue entregado por las Farc, luego de la entrega de armas del grupo a las Naciones Unidas, el resultado final fue 1.300 placas met\\u00e1licas que se convirtieron en un escenario apto para eventos como ciclo de conferencias sobre violencia sexual e injusticia testimonial. Este evento es la oportunidad de acercarse m\\u00e1s a la historia colombiana de las mujeres y conocer el contramonumento. ALISSON BETANCOURT PARA EL TIEMPO @alisson_nicol Miedo 11:19 p.m. Ejercite su mente en la cuarentena con este test de l\\u00f3gica matem\\u00e1tica Ponga a prueba esas clases de matem\\u00e1ticas del colegio y de la vida par ... Manizales 10:00 p.m. Ya se venden medicamentos de cannabis con f\\u00f3rmula m\\u00e9dica En farmacias especializadas de Colombia es posible acceder a medicamen ... Manizales 10:00 p.m. El gu\\u00eda de la salud mental del pueblo con m\\u00e1s casos de bipolaridad Coronavirus en Colombia 09:31 p.m. Una cabina de desinfecci\\u00f3n manual para Barranquilla Valle del Cauca 07:50 p.m. Se han recogido cerca de 132 mil mercados en 'Donat\\u00f3n Valle Solidario'\",\n          \"El cuadro Busto de mujer, del artista espa\\u00f1ol Pablo Picasso , robado hace veinte a\\u00f1os del yate de un jeque \\u00e1rabe, fue localizado en los bajos fondos de \\u00c1msterdam tras cambiar de manos al menos veinte veces, confirm\\u00f3 este lunes el autor del hallazgo, el investigador de arte holand\\u00e9s Arthur Brand. \\u201cHablamos del artista m\\u00e1s grande del siglo XX y esta era una de sus obras m\\u00e1s importantes y su favorita, porque ni la firm\\u00f3 ni la vendi\\u00f3. Estuvo en su casa hasta su muerte\\u201d , dice Brand. La obra es un retrato de la pintora Dora Maar, pareja de Picasso en los a\\u00f1os 30 y 40, y el artista la pint\\u00f3 en 1938, un a\\u00f1o despu\\u00e9s del Guernica. El investigador llevaba detr\\u00e1s de la pista del lienzo desde 2015, pero incluso \\u00e9l, un detective de arte con experiencia, lo hab\\u00eda dado por perdido. La pintura era propiedad de un jeque saud\\u00ed, Abdul Mohsen Abdulmalik, quien lo adquiri\\u00f3 en los ochenta en la galer\\u00eda Pace de Nueva York por una cifra no confirmada, pero cuando fue robado de su yate en F ranci a ten\\u00eda un valor en el mercado de 4 millones de euros. Con el paso del tiempo, las autoridades francesas dieron el caso por cerrado porque la mayor\\u00eda de las veces, se\\u00f1al\\u00f3 Brand, \\\"cuando un cuadro as\\u00ed desaparece totalmente es porque sus ladrones no lo han podido vender y apuestan por destruirlo para quitarse de problemas\\\". El propietario ofrec\\u00eda una recompensa de 400.000 euros, pero tras perder la esperanza de encontrarlo, recibi\\u00f3 4 millones de euros de la compa\\u00f1\\u00eda de seguros y ahora esta tiene el lienzo en su propiedad en \\u00c1msterdam. En 2015, el investigador escuch\\u00f3 por primera vez que el cuadro estaba circulando por los bajos fondos de \\u00c1msterdam. Hace unas semanas, supo que un comerciante lo hab\\u00eda comprado sin saber de qu\\u00e9 se trataba y, cuando se dio cuenta de que era robado, contact\\u00f3 con el entorno de Brand en busca de ayuda , pero en un principio el marchante no lo entreg\\u00f3 por miedo a los problemas legales. \\u201cSab\\u00edamos que no ten\\u00eda nada que ver, as\\u00ed que llegamos a un trato: me daba el cuadro y no hay investigaci\\u00f3n\\u201d, dice. EFE Miedo 11:19 p.m. Ejercite su mente en la cuarentena con este test de l\\u00f3gica matem\\u00e1tica Ponga a prueba esas clases de matem\\u00e1ticas del colegio y de la vida par ... Manizales 10:00 p.m. Ya se venden medicamentos de cannabis con f\\u00f3rmula m\\u00e9dica En farmacias especializadas de Colombia es posible acceder a medicamen ... Manizales 10:00 p.m. El gu\\u00eda de la salud mental del pueblo con m\\u00e1s casos de bipolaridad Coronavirus en Colombia 09:31 p.m. Una cabina de desinfecci\\u00f3n manual para Barranquilla Valle del Cauca 07:50 p.m. Se han recogido cerca de 132 mil mercados en 'Donat\\u00f3n Valle Solidario'\"\n        ],\n        \"semantic_type\": \"\",\n        \"description\": \"\"\n      }\n    },\n    {\n      \"column\": \"contenido_preprocesado\",\n      \"properties\": {\n        \"dtype\": \"string\",\n        \"num_unique_values\": 5,\n        \"samples\": [\n          \"con motivo de la celebraci\\u00f3n de los  a\\u00f1os de la ense\\u00f1anza de la danza oriental en colombia llega dakini danzarina de luz un festival m\\u00e1gico que trae lo mejor de la danza de oriente este espect\\u00e1culo que honra el esp\\u00edritu femenino contar\\u00e1 con m\\u00e1s de  bailarinas en escena y pondr\\u00e1 a bailar a bogot\\u00e1 con ritmos de la india y egipto antonina canal sanadora hol\\u00edstica conferencista bailarina empresaria y madre habl\\u00f3 con el tiempo acerca de su trayectoria en la ense\\u00f1anza de la sabidur\\u00eda de la danza y de su \\u2018show\\u2019 dakini que interpretar\\u00e1 con \\u00f3scar flores que fue nombrado el \\u2018pr\\u00edncipe de la danza\\u2019 a nivel mundial y dariya mitskevich la figura m\\u00e1s importante de la danza oriental en el mundo \\u00bfcu\\u00e1ndo naci\\u00f3 el inter\\u00e9s por los temas esot\\u00e9ricos y espirituales hace  a\\u00f1os cuando fui a la india all\\u00e1 estudi\\u00e9 yoga meditaci\\u00f3n y luego pas\\u00e9 a vivir a egipto tambi\\u00e9n hice un recorrido por turqu\\u00eda marruecos y aprend\\u00ed toda la sabidur\\u00eda de la danza la gente piensa que la danza \\u00e1rabe es un baile sensual pero esta danza tiene un trabajo terap\\u00e9utico y espiritual muy poderoso despu\\u00e9s de vivir en oriente regres\\u00e9 a colombia y abr\\u00ed mi academia prem shakti en  que es un lugar que se basa en el arte de sanar y celebrar la energ\\u00eda femenina a trav\\u00e9s de las danzas orientales \\u00e1rabe hind\\u00fa fusi\\u00f3n yoga y terapias como aurasoma me certifiqu\\u00e9 en aurasoma en inglaterra que es la terapia de sanaci\\u00f3n a trav\\u00e9s del color \\u00bfse puede alcanzar la iluminaci\\u00f3n a trav\\u00e9s de la danza \\u00e1rabe en antiguo egipto e india la danza era un camino de iluminaci\\u00f3n que es lo que mucha gente no sabe com\\u00fanmente se piensa que la danza \\u00e1rabe es un baile sensual y ya aunque s\\u00ed es el baile m\\u00e1s sensual del mundo y es absolutamente femenino la danza \\u00e1rabe tambi\\u00e9n hace un trabajo de \\u2018chakras\\u2019 que son los centros energ\\u00e9ticos del cuerpo donde se unen todos los aspectos de la diosa en la academia armonizamos todas las mujeres que llevamos dentro el sistema \\u2018prem shakti\\u2019 tiene todo un trabajo interno no es solo mover la cadera como en la rumba por ejemplo aqu\\u00ed adem\\u00e1s de la clase de danza que dura hora y media hacemos un trabajo de alineaci\\u00f3n de \\u2018chakras\\u2019 y sesiones de relajaci\\u00f3n profunda \\u00bfcu\\u00e1les son los beneficios de la danza \\u00e1rabe la liberaci\\u00f3n del estr\\u00e9s la alineaci\\u00f3n de los \\u2018chakras\\u2019 la armonizaci\\u00f3n del cuerpo f\\u00edsico emocional mental y espiritual y un trabajo grande de autoestima empoderamiento sensualidad y feminidad en una era donde la mujer est\\u00e1 asumiendo unos roles demasiado masculinos estos roles son por ejemplo la mujer macho e hist\\u00e9rica la mujer intelectual que solo usa la mente la mujer superficial y dram\\u00e1tica tambi\\u00e9n hay un trabajo de meditaci\\u00f3n y concentraci\\u00f3n que en la danza \\u00e1rabe es meditar en movimiento la danza \\u00e1rabe no tiene l\\u00edmite de edad talla y profesi\\u00f3n es un espacio abierto para todas las mujeres y un trabajo profundo de armonizaci\\u00f3n y paz es un estilo de vida diferente a la vida estresada que llevamos en el mundo contempor\\u00e1neo \\u00bfpor qu\\u00e9 cree que en occidente no estamos tan desarrollados espiritualmente como en oriente porque en occidente somos muy mentales est\\u00e1 comprobado y en mi libro lo hablo que usamos m\\u00e1s el hemisferio izquierdo del cerebro que se relaciona con lo racional mental y lineal es como si vivi\\u00e9ramos para ir de la casa al trabajo para pagar cuentas no usamos mucho el hemisferio derecho que es la parte intuitiva sensual y creativa necesitamos abrirnos a un trabajo espiritual art\\u00edstico y arm\\u00f3nico tenemos que pasar de pensar a sentir el arte la danza la m\\u00fasica y la meditaci\\u00f3n nos ayudan a abrir este hemisferio \\u00bflos hombres tambi\\u00e9n puede practicar la danza \\u00e1rabe y despertar su dios interior claro que s\\u00ed en mi pr\\u00f3ximo \\u2018show\\u2019 dakini danzarina de luz tengo  bailarinas en escena y  hombres lo que quiero decir con eso es que los hombres tambi\\u00e9n necesitan bailar se piensa que la danza \\u00e1rabe es algo m\\u00e1s femenino pero los hombres tambi\\u00e9n necesitan trabajar su lado femenino porque ellos est\\u00e1n m\\u00e1s bloqueados que las mujeres hay bailes para los hombres por ejemplo el bollywood la danza de la india en la que no hay movimiento de cadera sino de hombros las mujeres despiertan a su diosa interior a trav\\u00e9s del autoestima el primer paso de empoderamiento femenino los pasos para despertar a la diosa interior los menciono en mi libro \\u2018el despertar de la diosa\\u2019 el pr\\u00f3ximo  y  de junio se presentar\\u00e1 el \\u00b0 festival internacional de danza oriental y fusi\\u00f3n dakini danzarina de luz \\u00bfc\\u00f3mo fue la preparaci\\u00f3n para este festival la puesta en escena de dakini es tipo danzateatro que tiene un guion y una historia que trata de c\\u00f3mo las mujeres pueden iluminarse a trav\\u00e9s de la danza coordinamos a  bailarinas con m\\u00e1s de  vestuarios hechos a mano en colombia cada baile tiene un significado y un color presentamos m\\u00e1s de  bailes con m\\u00e1s de  ritmos \\u00e1rabes y tambi\\u00e9n tenemos fusiones nuevas como la samba \\u00e1rabe el flamenco \\u00e1rabe y el \\u2018jazz\\u2019 \\u00e1rabe cada a\\u00f1o mostramos algo nuevo estamos celebrando  a\\u00f1os de danza oriental en colombia y de prem shakti que es la academia pionera de danza oriental en el pa\\u00eds cuando yo empec\\u00e9 no hab\\u00eda nadie haciendo danza de este tipo ni siquiera restaurantes \\u00e1rabes ten\\u00edan esta iniciativa yo empec\\u00e9 a dictar clases de danza \\u00e1rabe en  y en  fund\\u00e9 la academia por eso se est\\u00e1n celebrando  a\\u00f1os \\u00bfqu\\u00e9 significa prem shakti prem shakti son dos palabras en s\\u00e1nscrito prem significa amor supremo y shakti es el principio creativo femenino del universo la academia tambi\\u00e9n tiene un programa de servicio social hace tres a\\u00f1os trabajo con el ministerio de cultura dando diplomados de terapias a mujeres desmovilizadas con la agencia colombiana para la reintegraci\\u00f3n dentro del marco de la cultura de paz este a\\u00f1o estamos trabajando particularmente en kennedy bogot\\u00e1 y el servicio que hacemos es gratis el festival de danza oriental se realizar\\u00e1 el  y  de junio a las  p m en el teatro colsubsidio de bogot\\u00e1 m\\u00e1s informaci\\u00f3n wwwpremshaktico instagramantoninacanal catalina cabrera mantilla escuela de periodismo multimedia el tiempo miedo  pm ejercite su mente en la cuarentena con este test de l\\u00f3gica matem\\u00e1tica ponga a prueba esas clases de matem\\u00e1ticas del colegio y de la vida par  manizales  pm ya se venden medicamentos de cannabis con f\\u00f3rmula m\\u00e9dica en farmacias especializadas de colombia es posible acceder a medicamen  manizales  pm el gu\\u00eda de la salud mental del pueblo con m\\u00e1s casos de bipolaridad coronavirus en colombia  pm una cabina de desinfecci\\u00f3n manual para barranquilla valle del cauca  pm se han recogido cerca de  mil mercados en donat\\u00f3n valle solidario\",\n          \"louise du toit fil\\u00f3sofa el doctor denis mukwege premio nobel de la  y la soprano betty garc\\u00e9s originaria de buenaventura estar\\u00e1n en el ciclo \\u2018violencia sexual e injusticia testimonial\\u2019 que se lleva a cabo el  y  en el contramonumento fragmentos carrera   b la entrada es libre y las actividades se realizar\\u00e1n en las horas de la tarde para que todos tengan la oportunidad de conocer m\\u00e1s sobre violencia sexual en conflicto armado la primera charla ser\\u00e1 en mi\\u00e9rcoles y estar\\u00e1 a cargo de la profesora de filosof\\u00eda de la universidad stellenbosch en sud\\u00e1frica louise du toit quien enfocar\\u00e1 su relato a la necesidad de la reconciliaci\\u00f3n y la restauraci\\u00f3n despu\\u00e9s de la violencia y el conflicto armado el jueves se entregar\\u00e1 el informe de la red de mujeres v\\u00edctimas y profesionales ante la jep este evento le ofrece la oportunidad de rescatar y narrar desde las v\\u00edctimas que paso y dar el reconocimiento de este tipo de violencias seguido estar\\u00e1 tambi\\u00e9n denis mukwege m\\u00e9dico ginec\\u00f3logo y defensor de los derechos humanos que ha trabajado con sobrevivientes de violencia sexual y ha liderado la atenci\\u00f3n integral para las v\\u00edctimas de este delito en la rep\\u00fablica democr\\u00e1tica del congo y en otros pa\\u00edses con conflicto armado luego betty garc\\u00e9s artista vallecaucana que obtuvo en el  el t\\u00edtulo de maestra en artes de la escuela superior de m\\u00fasica de colonia alemania con especializaci\\u00f3n en \\u00f3pera con su impresionante voz de soprano ofrecer\\u00e1 un recital acompa\\u00f1ada en el piano por mauricio arias esguerra \\u201cfragmentos\\u201d es un espacio creado por doris salcedo escultora colombiana con el que quiso rendir homenaje a las v\\u00edctimas del conflicto en el pa\\u00eds lo construyo con  toneladas de armamento que fue entregado por las farc luego de la entrega de armas del grupo a las naciones unidas el resultado final fue  placas met\\u00e1licas que se convirtieron en un escenario apto para eventos como ciclo de conferencias sobre violencia sexual e injusticia testimonial este evento es la oportunidad de acercarse m\\u00e1s a la historia colombiana de las mujeres y conocer el contramonumento alisson betancourt para el tiempo alissonnicol miedo  pm ejercite su mente en la cuarentena con este test de l\\u00f3gica matem\\u00e1tica ponga a prueba esas clases de matem\\u00e1ticas del colegio y de la vida par  manizales  pm ya se venden medicamentos de cannabis con f\\u00f3rmula m\\u00e9dica en farmacias especializadas de colombia es posible acceder a medicamen  manizales  pm el gu\\u00eda de la salud mental del pueblo con m\\u00e1s casos de bipolaridad coronavirus en colombia  pm una cabina de desinfecci\\u00f3n manual para barranquilla valle del cauca  pm se han recogido cerca de  mil mercados en donat\\u00f3n valle solidario\",\n          \"el cuadro busto de mujer del artista espa\\u00f1ol pablo picasso  robado hace veinte a\\u00f1os del yate de un jeque \\u00e1rabe fue localizado en los bajos fondos de \\u00e1msterdam tras cambiar de manos al menos veinte veces confirm\\u00f3 este lunes el autor del hallazgo el investigador de arte holand\\u00e9s arthur brand \\u201chablamos del artista m\\u00e1s grande del siglo xx y esta era una de sus obras m\\u00e1s importantes y su favorita porque ni la firm\\u00f3 ni la vendi\\u00f3 estuvo en su casa hasta su muerte\\u201d  dice brand la obra es un retrato de la pintora dora maar pareja de picasso en los a\\u00f1os  y  y el artista la pint\\u00f3 en  un a\\u00f1o despu\\u00e9s del guernica el investigador llevaba detr\\u00e1s de la pista del lienzo desde  pero incluso \\u00e9l un detective de arte con experiencia lo hab\\u00eda dado por perdido la pintura era propiedad de un jeque saud\\u00ed abdul mohsen abdulmalik quien lo adquiri\\u00f3 en los ochenta en la galer\\u00eda pace de nueva york por una cifra no confirmada pero cuando fue robado de su yate en f ranci a ten\\u00eda un valor en el mercado de  millones de euros con el paso del tiempo las autoridades francesas dieron el caso por cerrado porque la mayor\\u00eda de las veces se\\u00f1al\\u00f3 brand cuando un cuadro as\\u00ed desaparece totalmente es porque sus ladrones no lo han podido vender y apuestan por destruirlo para quitarse de problemas el propietario ofrec\\u00eda una recompensa de  euros pero tras perder la esperanza de encontrarlo recibi\\u00f3  millones de euros de la compa\\u00f1\\u00eda de seguros y ahora esta tiene el lienzo en su propiedad en \\u00e1msterdam en  el investigador escuch\\u00f3 por primera vez que el cuadro estaba circulando por los bajos fondos de \\u00e1msterdam hace unas semanas supo que un comerciante lo hab\\u00eda comprado sin saber de qu\\u00e9 se trataba y cuando se dio cuenta de que era robado contact\\u00f3 con el entorno de brand en busca de ayuda  pero en un principio el marchante no lo entreg\\u00f3 por miedo a los problemas legales \\u201csab\\u00edamos que no ten\\u00eda nada que ver as\\u00ed que llegamos a un trato me daba el cuadro y no hay investigaci\\u00f3n\\u201d dice efe miedo  pm ejercite su mente en la cuarentena con este test de l\\u00f3gica matem\\u00e1tica ponga a prueba esas clases de matem\\u00e1ticas del colegio y de la vida par  manizales  pm ya se venden medicamentos de cannabis con f\\u00f3rmula m\\u00e9dica en farmacias especializadas de colombia es posible acceder a medicamen  manizales  pm el gu\\u00eda de la salud mental del pueblo con m\\u00e1s casos de bipolaridad coronavirus en colombia  pm una cabina de desinfecci\\u00f3n manual para barranquilla valle del cauca  pm se han recogido cerca de  mil mercados en donat\\u00f3n valle solidario\"\n        ],\n        \"semantic_type\": \"\",\n        \"description\": \"\"\n      }\n    }\n  ]\n}"
            }
          },
          "metadata": {}
        },
        {
          "output_type": "stream",
          "name": "stdout",
          "text": [
            "Dimensiones de los datos: (14396, 6)\n"
          ]
        }
      ],
      "source": [
        "# Función para preprocesar texto\n",
        "def preprocess_text(text):\n",
        "        # Convertir a minúsculas\n",
        "    text = text.lower()\n",
        "    # Eliminar puntuación\n",
        "    text = text.translate(str.maketrans('', '', string.punctuation))\n",
        "    # Eliminar números\n",
        "    text = re.sub(r'\\d+', '', text)\n",
        "    # Eliminar espacios en blanco adicionales\n",
        "    text = text.strip()\n",
        "    return text\n",
        "\n",
        "# Aplicar preprocesamiento al contenido\n",
        "## Deben eliminarse los valores nulos antes de aplicar el preprocesamiento\n",
        "data2 = data2.dropna(subset=['contenido'])\n",
        "\n",
        "# Aplicar preprocesamiento al contenido\n",
        "data2['contenido_preprocesado'] = data2['contenido'].apply(preprocess_text)\n",
        "\n",
        "# Mostrar una vista previa de los datos preprocesados\n",
        "display(data2[['contenido', 'contenido_preprocesado']].head())\n",
        "\n",
        "# Dimensiones de los datos\n",
        "\n",
        "print(f'Dimensiones de los datos: {data.shape}')\n",
        "\n"
      ]
    },
    {
      "cell_type": "code",
      "source": [
        "!pip install tensorflow\n",
        "!pip install keras_nlp\n",
        "!pip uninstall tf-keras\n",
        "!pip install \"keras_nlp[tensorflow]<0.17\""
      ],
      "metadata": {
        "colab": {
          "base_uri": "https://localhost:8080/"
        },
        "id": "l8FyW27pNwI4",
        "outputId": "f791bc39-2408-407f-8568-e86acb0da024"
      },
      "id": "l8FyW27pNwI4",
      "execution_count": 8,
      "outputs": [
        {
          "output_type": "stream",
          "name": "stdout",
          "text": [
            "Requirement already satisfied: tensorflow in /usr/local/lib/python3.10/dist-packages (2.17.1)\n",
            "Requirement already satisfied: absl-py>=1.0.0 in /usr/local/lib/python3.10/dist-packages (from tensorflow) (1.4.0)\n",
            "Requirement already satisfied: astunparse>=1.6.0 in /usr/local/lib/python3.10/dist-packages (from tensorflow) (1.6.3)\n",
            "Requirement already satisfied: flatbuffers>=24.3.25 in /usr/local/lib/python3.10/dist-packages (from tensorflow) (24.3.25)\n",
            "Requirement already satisfied: gast!=0.5.0,!=0.5.1,!=0.5.2,>=0.2.1 in /usr/local/lib/python3.10/dist-packages (from tensorflow) (0.6.0)\n",
            "Requirement already satisfied: google-pasta>=0.1.1 in /usr/local/lib/python3.10/dist-packages (from tensorflow) (0.2.0)\n",
            "Requirement already satisfied: h5py>=3.10.0 in /usr/local/lib/python3.10/dist-packages (from tensorflow) (3.12.1)\n",
            "Requirement already satisfied: libclang>=13.0.0 in /usr/local/lib/python3.10/dist-packages (from tensorflow) (18.1.1)\n",
            "Requirement already satisfied: ml-dtypes<0.5.0,>=0.3.1 in /usr/local/lib/python3.10/dist-packages (from tensorflow) (0.4.1)\n",
            "Requirement already satisfied: opt-einsum>=2.3.2 in /usr/local/lib/python3.10/dist-packages (from tensorflow) (3.4.0)\n",
            "Requirement already satisfied: packaging in /usr/local/lib/python3.10/dist-packages (from tensorflow) (24.2)\n",
            "Requirement already satisfied: protobuf!=4.21.0,!=4.21.1,!=4.21.2,!=4.21.3,!=4.21.4,!=4.21.5,<5.0.0dev,>=3.20.3 in /usr/local/lib/python3.10/dist-packages (from tensorflow) (4.25.5)\n",
            "Requirement already satisfied: requests<3,>=2.21.0 in /usr/local/lib/python3.10/dist-packages (from tensorflow) (2.32.3)\n",
            "Requirement already satisfied: setuptools in /usr/local/lib/python3.10/dist-packages (from tensorflow) (75.1.0)\n",
            "Requirement already satisfied: six>=1.12.0 in /usr/local/lib/python3.10/dist-packages (from tensorflow) (1.16.0)\n",
            "Requirement already satisfied: termcolor>=1.1.0 in /usr/local/lib/python3.10/dist-packages (from tensorflow) (2.5.0)\n",
            "Requirement already satisfied: typing-extensions>=3.6.6 in /usr/local/lib/python3.10/dist-packages (from tensorflow) (4.12.2)\n",
            "Requirement already satisfied: wrapt>=1.11.0 in /usr/local/lib/python3.10/dist-packages (from tensorflow) (1.17.0)\n",
            "Requirement already satisfied: grpcio<2.0,>=1.24.3 in /usr/local/lib/python3.10/dist-packages (from tensorflow) (1.68.1)\n",
            "Requirement already satisfied: tensorboard<2.18,>=2.17 in /usr/local/lib/python3.10/dist-packages (from tensorflow) (2.17.1)\n",
            "Requirement already satisfied: keras>=3.2.0 in /usr/local/lib/python3.10/dist-packages (from tensorflow) (3.5.0)\n",
            "Requirement already satisfied: tensorflow-io-gcs-filesystem>=0.23.1 in /usr/local/lib/python3.10/dist-packages (from tensorflow) (0.37.1)\n",
            "Requirement already satisfied: numpy<2.0.0,>=1.23.5 in /usr/local/lib/python3.10/dist-packages (from tensorflow) (1.26.4)\n",
            "Requirement already satisfied: wheel<1.0,>=0.23.0 in /usr/local/lib/python3.10/dist-packages (from astunparse>=1.6.0->tensorflow) (0.45.1)\n",
            "Requirement already satisfied: rich in /usr/local/lib/python3.10/dist-packages (from keras>=3.2.0->tensorflow) (13.9.4)\n",
            "Requirement already satisfied: namex in /usr/local/lib/python3.10/dist-packages (from keras>=3.2.0->tensorflow) (0.0.8)\n",
            "Requirement already satisfied: optree in /usr/local/lib/python3.10/dist-packages (from keras>=3.2.0->tensorflow) (0.13.1)\n",
            "Requirement already satisfied: charset-normalizer<4,>=2 in /usr/local/lib/python3.10/dist-packages (from requests<3,>=2.21.0->tensorflow) (3.4.0)\n",
            "Requirement already satisfied: idna<4,>=2.5 in /usr/local/lib/python3.10/dist-packages (from requests<3,>=2.21.0->tensorflow) (3.10)\n",
            "Requirement already satisfied: urllib3<3,>=1.21.1 in /usr/local/lib/python3.10/dist-packages (from requests<3,>=2.21.0->tensorflow) (2.2.3)\n",
            "Requirement already satisfied: certifi>=2017.4.17 in /usr/local/lib/python3.10/dist-packages (from requests<3,>=2.21.0->tensorflow) (2024.8.30)\n",
            "Requirement already satisfied: markdown>=2.6.8 in /usr/local/lib/python3.10/dist-packages (from tensorboard<2.18,>=2.17->tensorflow) (3.7)\n",
            "Requirement already satisfied: tensorboard-data-server<0.8.0,>=0.7.0 in /usr/local/lib/python3.10/dist-packages (from tensorboard<2.18,>=2.17->tensorflow) (0.7.2)\n",
            "Requirement already satisfied: werkzeug>=1.0.1 in /usr/local/lib/python3.10/dist-packages (from tensorboard<2.18,>=2.17->tensorflow) (3.1.3)\n",
            "Requirement already satisfied: MarkupSafe>=2.1.1 in /usr/local/lib/python3.10/dist-packages (from werkzeug>=1.0.1->tensorboard<2.18,>=2.17->tensorflow) (3.0.2)\n",
            "Requirement already satisfied: markdown-it-py>=2.2.0 in /usr/local/lib/python3.10/dist-packages (from rich->keras>=3.2.0->tensorflow) (3.0.0)\n",
            "Requirement already satisfied: pygments<3.0.0,>=2.13.0 in /usr/local/lib/python3.10/dist-packages (from rich->keras>=3.2.0->tensorflow) (2.18.0)\n",
            "Requirement already satisfied: mdurl~=0.1 in /usr/local/lib/python3.10/dist-packages (from markdown-it-py>=2.2.0->rich->keras>=3.2.0->tensorflow) (0.1.2)\n",
            "Collecting keras_nlp\n",
            "  Downloading keras_nlp-0.18.1-py3-none-any.whl.metadata (1.2 kB)\n",
            "Collecting keras-hub==0.18.1 (from keras_nlp)\n",
            "  Downloading keras_hub-0.18.1-py3-none-any.whl.metadata (7.0 kB)\n",
            "Requirement already satisfied: absl-py in /usr/local/lib/python3.10/dist-packages (from keras-hub==0.18.1->keras_nlp) (1.4.0)\n",
            "Requirement already satisfied: numpy in /usr/local/lib/python3.10/dist-packages (from keras-hub==0.18.1->keras_nlp) (1.26.4)\n",
            "Requirement already satisfied: packaging in /usr/local/lib/python3.10/dist-packages (from keras-hub==0.18.1->keras_nlp) (24.2)\n",
            "Requirement already satisfied: regex in /usr/local/lib/python3.10/dist-packages (from keras-hub==0.18.1->keras_nlp) (2024.9.11)\n",
            "Requirement already satisfied: rich in /usr/local/lib/python3.10/dist-packages (from keras-hub==0.18.1->keras_nlp) (13.9.4)\n",
            "Requirement already satisfied: kagglehub in /usr/local/lib/python3.10/dist-packages (from keras-hub==0.18.1->keras_nlp) (0.3.4)\n",
            "Collecting tensorflow-text (from keras-hub==0.18.1->keras_nlp)\n",
            "  Downloading tensorflow_text-2.18.0-cp310-cp310-manylinux_2_17_x86_64.manylinux2014_x86_64.whl.metadata (1.8 kB)\n",
            "Requirement already satisfied: requests in /usr/local/lib/python3.10/dist-packages (from kagglehub->keras-hub==0.18.1->keras_nlp) (2.32.3)\n",
            "Requirement already satisfied: tqdm in /usr/local/lib/python3.10/dist-packages (from kagglehub->keras-hub==0.18.1->keras_nlp) (4.66.6)\n",
            "Requirement already satisfied: markdown-it-py>=2.2.0 in /usr/local/lib/python3.10/dist-packages (from rich->keras-hub==0.18.1->keras_nlp) (3.0.0)\n",
            "Requirement already satisfied: pygments<3.0.0,>=2.13.0 in /usr/local/lib/python3.10/dist-packages (from rich->keras-hub==0.18.1->keras_nlp) (2.18.0)\n",
            "Requirement already satisfied: typing-extensions<5.0,>=4.0.0 in /usr/local/lib/python3.10/dist-packages (from rich->keras-hub==0.18.1->keras_nlp) (4.12.2)\n",
            "Collecting tensorflow<2.19,>=2.18.0 (from tensorflow-text->keras-hub==0.18.1->keras_nlp)\n",
            "  Downloading tensorflow-2.18.0-cp310-cp310-manylinux_2_17_x86_64.manylinux2014_x86_64.whl.metadata (4.1 kB)\n",
            "Requirement already satisfied: mdurl~=0.1 in /usr/local/lib/python3.10/dist-packages (from markdown-it-py>=2.2.0->rich->keras-hub==0.18.1->keras_nlp) (0.1.2)\n",
            "Requirement already satisfied: astunparse>=1.6.0 in /usr/local/lib/python3.10/dist-packages (from tensorflow<2.19,>=2.18.0->tensorflow-text->keras-hub==0.18.1->keras_nlp) (1.6.3)\n",
            "Requirement already satisfied: flatbuffers>=24.3.25 in /usr/local/lib/python3.10/dist-packages (from tensorflow<2.19,>=2.18.0->tensorflow-text->keras-hub==0.18.1->keras_nlp) (24.3.25)\n",
            "Requirement already satisfied: gast!=0.5.0,!=0.5.1,!=0.5.2,>=0.2.1 in /usr/local/lib/python3.10/dist-packages (from tensorflow<2.19,>=2.18.0->tensorflow-text->keras-hub==0.18.1->keras_nlp) (0.6.0)\n",
            "Requirement already satisfied: google-pasta>=0.1.1 in /usr/local/lib/python3.10/dist-packages (from tensorflow<2.19,>=2.18.0->tensorflow-text->keras-hub==0.18.1->keras_nlp) (0.2.0)\n",
            "Requirement already satisfied: libclang>=13.0.0 in /usr/local/lib/python3.10/dist-packages (from tensorflow<2.19,>=2.18.0->tensorflow-text->keras-hub==0.18.1->keras_nlp) (18.1.1)\n",
            "Requirement already satisfied: opt-einsum>=2.3.2 in /usr/local/lib/python3.10/dist-packages (from tensorflow<2.19,>=2.18.0->tensorflow-text->keras-hub==0.18.1->keras_nlp) (3.4.0)\n",
            "Requirement already satisfied: protobuf!=4.21.0,!=4.21.1,!=4.21.2,!=4.21.3,!=4.21.4,!=4.21.5,<6.0.0dev,>=3.20.3 in /usr/local/lib/python3.10/dist-packages (from tensorflow<2.19,>=2.18.0->tensorflow-text->keras-hub==0.18.1->keras_nlp) (4.25.5)\n",
            "Requirement already satisfied: setuptools in /usr/local/lib/python3.10/dist-packages (from tensorflow<2.19,>=2.18.0->tensorflow-text->keras-hub==0.18.1->keras_nlp) (75.1.0)\n",
            "Requirement already satisfied: six>=1.12.0 in /usr/local/lib/python3.10/dist-packages (from tensorflow<2.19,>=2.18.0->tensorflow-text->keras-hub==0.18.1->keras_nlp) (1.16.0)\n",
            "Requirement already satisfied: termcolor>=1.1.0 in /usr/local/lib/python3.10/dist-packages (from tensorflow<2.19,>=2.18.0->tensorflow-text->keras-hub==0.18.1->keras_nlp) (2.5.0)\n",
            "Requirement already satisfied: wrapt>=1.11.0 in /usr/local/lib/python3.10/dist-packages (from tensorflow<2.19,>=2.18.0->tensorflow-text->keras-hub==0.18.1->keras_nlp) (1.17.0)\n",
            "Requirement already satisfied: grpcio<2.0,>=1.24.3 in /usr/local/lib/python3.10/dist-packages (from tensorflow<2.19,>=2.18.0->tensorflow-text->keras-hub==0.18.1->keras_nlp) (1.68.1)\n",
            "Collecting tensorboard<2.19,>=2.18 (from tensorflow<2.19,>=2.18.0->tensorflow-text->keras-hub==0.18.1->keras_nlp)\n",
            "  Downloading tensorboard-2.18.0-py3-none-any.whl.metadata (1.6 kB)\n",
            "Requirement already satisfied: keras>=3.5.0 in /usr/local/lib/python3.10/dist-packages (from tensorflow<2.19,>=2.18.0->tensorflow-text->keras-hub==0.18.1->keras_nlp) (3.5.0)\n",
            "Requirement already satisfied: h5py>=3.11.0 in /usr/local/lib/python3.10/dist-packages (from tensorflow<2.19,>=2.18.0->tensorflow-text->keras-hub==0.18.1->keras_nlp) (3.12.1)\n",
            "Requirement already satisfied: ml-dtypes<0.5.0,>=0.4.0 in /usr/local/lib/python3.10/dist-packages (from tensorflow<2.19,>=2.18.0->tensorflow-text->keras-hub==0.18.1->keras_nlp) (0.4.1)\n",
            "Requirement already satisfied: tensorflow-io-gcs-filesystem>=0.23.1 in /usr/local/lib/python3.10/dist-packages (from tensorflow<2.19,>=2.18.0->tensorflow-text->keras-hub==0.18.1->keras_nlp) (0.37.1)\n",
            "Requirement already satisfied: charset-normalizer<4,>=2 in /usr/local/lib/python3.10/dist-packages (from requests->kagglehub->keras-hub==0.18.1->keras_nlp) (3.4.0)\n",
            "Requirement already satisfied: idna<4,>=2.5 in /usr/local/lib/python3.10/dist-packages (from requests->kagglehub->keras-hub==0.18.1->keras_nlp) (3.10)\n",
            "Requirement already satisfied: urllib3<3,>=1.21.1 in /usr/local/lib/python3.10/dist-packages (from requests->kagglehub->keras-hub==0.18.1->keras_nlp) (2.2.3)\n",
            "Requirement already satisfied: certifi>=2017.4.17 in /usr/local/lib/python3.10/dist-packages (from requests->kagglehub->keras-hub==0.18.1->keras_nlp) (2024.8.30)\n",
            "Requirement already satisfied: wheel<1.0,>=0.23.0 in /usr/local/lib/python3.10/dist-packages (from astunparse>=1.6.0->tensorflow<2.19,>=2.18.0->tensorflow-text->keras-hub==0.18.1->keras_nlp) (0.45.1)\n",
            "Requirement already satisfied: namex in /usr/local/lib/python3.10/dist-packages (from keras>=3.5.0->tensorflow<2.19,>=2.18.0->tensorflow-text->keras-hub==0.18.1->keras_nlp) (0.0.8)\n",
            "Requirement already satisfied: optree in /usr/local/lib/python3.10/dist-packages (from keras>=3.5.0->tensorflow<2.19,>=2.18.0->tensorflow-text->keras-hub==0.18.1->keras_nlp) (0.13.1)\n",
            "Requirement already satisfied: markdown>=2.6.8 in /usr/local/lib/python3.10/dist-packages (from tensorboard<2.19,>=2.18->tensorflow<2.19,>=2.18.0->tensorflow-text->keras-hub==0.18.1->keras_nlp) (3.7)\n",
            "Requirement already satisfied: tensorboard-data-server<0.8.0,>=0.7.0 in /usr/local/lib/python3.10/dist-packages (from tensorboard<2.19,>=2.18->tensorflow<2.19,>=2.18.0->tensorflow-text->keras-hub==0.18.1->keras_nlp) (0.7.2)\n",
            "Requirement already satisfied: werkzeug>=1.0.1 in /usr/local/lib/python3.10/dist-packages (from tensorboard<2.19,>=2.18->tensorflow<2.19,>=2.18.0->tensorflow-text->keras-hub==0.18.1->keras_nlp) (3.1.3)\n",
            "Requirement already satisfied: MarkupSafe>=2.1.1 in /usr/local/lib/python3.10/dist-packages (from werkzeug>=1.0.1->tensorboard<2.19,>=2.18->tensorflow<2.19,>=2.18.0->tensorflow-text->keras-hub==0.18.1->keras_nlp) (3.0.2)\n",
            "Downloading keras_nlp-0.18.1-py3-none-any.whl (2.0 kB)\n",
            "Downloading keras_hub-0.18.1-py3-none-any.whl (691 kB)\n",
            "\u001b[2K   \u001b[90m━━━━━━━━━━━━━━━━━━━━━━━━━━━━━━━━━━━━━━━━\u001b[0m \u001b[32m691.2/691.2 kB\u001b[0m \u001b[31m9.9 MB/s\u001b[0m eta \u001b[36m0:00:00\u001b[0m\n",
            "\u001b[?25hDownloading tensorflow_text-2.18.0-cp310-cp310-manylinux_2_17_x86_64.manylinux2014_x86_64.whl (5.2 MB)\n",
            "\u001b[2K   \u001b[90m━━━━━━━━━━━━━━━━━━━━━━━━━━━━━━━━━━━━━━━━\u001b[0m \u001b[32m5.2/5.2 MB\u001b[0m \u001b[31m65.6 MB/s\u001b[0m eta \u001b[36m0:00:00\u001b[0m\n",
            "\u001b[?25hDownloading tensorflow-2.18.0-cp310-cp310-manylinux_2_17_x86_64.manylinux2014_x86_64.whl (615.3 MB)\n",
            "\u001b[2K   \u001b[90m━━━━━━━━━━━━━━━━━━━━━━━━━━━━━━━━━━━━━━━━\u001b[0m \u001b[32m615.3/615.3 MB\u001b[0m \u001b[31m971.1 kB/s\u001b[0m eta \u001b[36m0:00:00\u001b[0m\n",
            "\u001b[?25hDownloading tensorboard-2.18.0-py3-none-any.whl (5.5 MB)\n",
            "\u001b[2K   \u001b[90m━━━━━━━━━━━━━━━━━━━━━━━━━━━━━━━━━━━━━━━━\u001b[0m \u001b[32m5.5/5.5 MB\u001b[0m \u001b[31m19.0 MB/s\u001b[0m eta \u001b[36m0:00:00\u001b[0m\n",
            "\u001b[?25hInstalling collected packages: tensorboard, tensorflow, tensorflow-text, keras-hub, keras_nlp\n",
            "  Attempting uninstall: tensorboard\n",
            "    Found existing installation: tensorboard 2.17.1\n",
            "    Uninstalling tensorboard-2.17.1:\n",
            "      Successfully uninstalled tensorboard-2.17.1\n",
            "  Attempting uninstall: tensorflow\n",
            "    Found existing installation: tensorflow 2.17.1\n",
            "    Uninstalling tensorflow-2.17.1:\n",
            "      Successfully uninstalled tensorflow-2.17.1\n",
            "\u001b[31mERROR: pip's dependency resolver does not currently take into account all the packages that are installed. This behaviour is the source of the following dependency conflicts.\n",
            "tf-keras 2.17.0 requires tensorflow<2.18,>=2.17, but you have tensorflow 2.18.0 which is incompatible.\u001b[0m\u001b[31m\n",
            "\u001b[0mSuccessfully installed keras-hub-0.18.1 keras_nlp-0.18.1 tensorboard-2.18.0 tensorflow-2.18.0 tensorflow-text-2.18.0\n",
            "Found existing installation: tf_keras 2.17.0\n",
            "Uninstalling tf_keras-2.17.0:\n",
            "  Would remove:\n",
            "    /usr/local/lib/python3.10/dist-packages/tf_keras-2.17.0.dist-info/*\n",
            "    /usr/local/lib/python3.10/dist-packages/tf_keras/*\n",
            "Proceed (Y/n)? y\n",
            "  Successfully uninstalled tf_keras-2.17.0\n",
            "Collecting keras_nlp<0.17 (from keras_nlp[tensorflow]<0.17)\n",
            "  Downloading keras_nlp-0.16.1-py3-none-any.whl.metadata (1.2 kB)\n",
            "Collecting keras-hub==0.16.1 (from keras_nlp<0.17->keras_nlp[tensorflow]<0.17)\n",
            "  Downloading keras_hub-0.16.1-py3-none-any.whl.metadata (7.4 kB)\n",
            "Requirement already satisfied: absl-py in /usr/local/lib/python3.10/dist-packages (from keras-hub==0.16.1->keras_nlp<0.17->keras_nlp[tensorflow]<0.17) (1.4.0)\n",
            "Requirement already satisfied: numpy in /usr/local/lib/python3.10/dist-packages (from keras-hub==0.16.1->keras_nlp<0.17->keras_nlp[tensorflow]<0.17) (1.26.4)\n",
            "Requirement already satisfied: packaging in /usr/local/lib/python3.10/dist-packages (from keras-hub==0.16.1->keras_nlp<0.17->keras_nlp[tensorflow]<0.17) (24.2)\n",
            "Requirement already satisfied: regex in /usr/local/lib/python3.10/dist-packages (from keras-hub==0.16.1->keras_nlp<0.17->keras_nlp[tensorflow]<0.17) (2024.9.11)\n",
            "Requirement already satisfied: rich in /usr/local/lib/python3.10/dist-packages (from keras-hub==0.16.1->keras_nlp<0.17->keras_nlp[tensorflow]<0.17) (13.9.4)\n",
            "Requirement already satisfied: kagglehub in /usr/local/lib/python3.10/dist-packages (from keras-hub==0.16.1->keras_nlp<0.17->keras_nlp[tensorflow]<0.17) (0.3.4)\n",
            "Requirement already satisfied: tensorflow-text in /usr/local/lib/python3.10/dist-packages (from keras-hub==0.16.1->keras_nlp<0.17->keras_nlp[tensorflow]<0.17) (2.18.0)\n",
            "\u001b[33mWARNING: keras-nlp 0.16.1 does not provide the extra 'tensorflow'\u001b[0m\u001b[33m\n",
            "\u001b[0mRequirement already satisfied: requests in /usr/local/lib/python3.10/dist-packages (from kagglehub->keras-hub==0.16.1->keras_nlp<0.17->keras_nlp[tensorflow]<0.17) (2.32.3)\n",
            "Requirement already satisfied: tqdm in /usr/local/lib/python3.10/dist-packages (from kagglehub->keras-hub==0.16.1->keras_nlp<0.17->keras_nlp[tensorflow]<0.17) (4.66.6)\n",
            "Requirement already satisfied: markdown-it-py>=2.2.0 in /usr/local/lib/python3.10/dist-packages (from rich->keras-hub==0.16.1->keras_nlp<0.17->keras_nlp[tensorflow]<0.17) (3.0.0)\n",
            "Requirement already satisfied: pygments<3.0.0,>=2.13.0 in /usr/local/lib/python3.10/dist-packages (from rich->keras-hub==0.16.1->keras_nlp<0.17->keras_nlp[tensorflow]<0.17) (2.18.0)\n",
            "Requirement already satisfied: typing-extensions<5.0,>=4.0.0 in /usr/local/lib/python3.10/dist-packages (from rich->keras-hub==0.16.1->keras_nlp<0.17->keras_nlp[tensorflow]<0.17) (4.12.2)\n",
            "Requirement already satisfied: tensorflow<2.19,>=2.18.0 in /usr/local/lib/python3.10/dist-packages (from tensorflow-text->keras-hub==0.16.1->keras_nlp<0.17->keras_nlp[tensorflow]<0.17) (2.18.0)\n",
            "Requirement already satisfied: mdurl~=0.1 in /usr/local/lib/python3.10/dist-packages (from markdown-it-py>=2.2.0->rich->keras-hub==0.16.1->keras_nlp<0.17->keras_nlp[tensorflow]<0.17) (0.1.2)\n",
            "Requirement already satisfied: astunparse>=1.6.0 in /usr/local/lib/python3.10/dist-packages (from tensorflow<2.19,>=2.18.0->tensorflow-text->keras-hub==0.16.1->keras_nlp<0.17->keras_nlp[tensorflow]<0.17) (1.6.3)\n",
            "Requirement already satisfied: flatbuffers>=24.3.25 in /usr/local/lib/python3.10/dist-packages (from tensorflow<2.19,>=2.18.0->tensorflow-text->keras-hub==0.16.1->keras_nlp<0.17->keras_nlp[tensorflow]<0.17) (24.3.25)\n",
            "Requirement already satisfied: gast!=0.5.0,!=0.5.1,!=0.5.2,>=0.2.1 in /usr/local/lib/python3.10/dist-packages (from tensorflow<2.19,>=2.18.0->tensorflow-text->keras-hub==0.16.1->keras_nlp<0.17->keras_nlp[tensorflow]<0.17) (0.6.0)\n",
            "Requirement already satisfied: google-pasta>=0.1.1 in /usr/local/lib/python3.10/dist-packages (from tensorflow<2.19,>=2.18.0->tensorflow-text->keras-hub==0.16.1->keras_nlp<0.17->keras_nlp[tensorflow]<0.17) (0.2.0)\n",
            "Requirement already satisfied: libclang>=13.0.0 in /usr/local/lib/python3.10/dist-packages (from tensorflow<2.19,>=2.18.0->tensorflow-text->keras-hub==0.16.1->keras_nlp<0.17->keras_nlp[tensorflow]<0.17) (18.1.1)\n",
            "Requirement already satisfied: opt-einsum>=2.3.2 in /usr/local/lib/python3.10/dist-packages (from tensorflow<2.19,>=2.18.0->tensorflow-text->keras-hub==0.16.1->keras_nlp<0.17->keras_nlp[tensorflow]<0.17) (3.4.0)\n",
            "Requirement already satisfied: protobuf!=4.21.0,!=4.21.1,!=4.21.2,!=4.21.3,!=4.21.4,!=4.21.5,<6.0.0dev,>=3.20.3 in /usr/local/lib/python3.10/dist-packages (from tensorflow<2.19,>=2.18.0->tensorflow-text->keras-hub==0.16.1->keras_nlp<0.17->keras_nlp[tensorflow]<0.17) (4.25.5)\n",
            "Requirement already satisfied: setuptools in /usr/local/lib/python3.10/dist-packages (from tensorflow<2.19,>=2.18.0->tensorflow-text->keras-hub==0.16.1->keras_nlp<0.17->keras_nlp[tensorflow]<0.17) (75.1.0)\n",
            "Requirement already satisfied: six>=1.12.0 in /usr/local/lib/python3.10/dist-packages (from tensorflow<2.19,>=2.18.0->tensorflow-text->keras-hub==0.16.1->keras_nlp<0.17->keras_nlp[tensorflow]<0.17) (1.16.0)\n",
            "Requirement already satisfied: termcolor>=1.1.0 in /usr/local/lib/python3.10/dist-packages (from tensorflow<2.19,>=2.18.0->tensorflow-text->keras-hub==0.16.1->keras_nlp<0.17->keras_nlp[tensorflow]<0.17) (2.5.0)\n",
            "Requirement already satisfied: wrapt>=1.11.0 in /usr/local/lib/python3.10/dist-packages (from tensorflow<2.19,>=2.18.0->tensorflow-text->keras-hub==0.16.1->keras_nlp<0.17->keras_nlp[tensorflow]<0.17) (1.17.0)\n",
            "Requirement already satisfied: grpcio<2.0,>=1.24.3 in /usr/local/lib/python3.10/dist-packages (from tensorflow<2.19,>=2.18.0->tensorflow-text->keras-hub==0.16.1->keras_nlp<0.17->keras_nlp[tensorflow]<0.17) (1.68.1)\n",
            "Requirement already satisfied: tensorboard<2.19,>=2.18 in /usr/local/lib/python3.10/dist-packages (from tensorflow<2.19,>=2.18.0->tensorflow-text->keras-hub==0.16.1->keras_nlp<0.17->keras_nlp[tensorflow]<0.17) (2.18.0)\n",
            "Requirement already satisfied: keras>=3.5.0 in /usr/local/lib/python3.10/dist-packages (from tensorflow<2.19,>=2.18.0->tensorflow-text->keras-hub==0.16.1->keras_nlp<0.17->keras_nlp[tensorflow]<0.17) (3.5.0)\n",
            "Requirement already satisfied: h5py>=3.11.0 in /usr/local/lib/python3.10/dist-packages (from tensorflow<2.19,>=2.18.0->tensorflow-text->keras-hub==0.16.1->keras_nlp<0.17->keras_nlp[tensorflow]<0.17) (3.12.1)\n",
            "Requirement already satisfied: ml-dtypes<0.5.0,>=0.4.0 in /usr/local/lib/python3.10/dist-packages (from tensorflow<2.19,>=2.18.0->tensorflow-text->keras-hub==0.16.1->keras_nlp<0.17->keras_nlp[tensorflow]<0.17) (0.4.1)\n",
            "Requirement already satisfied: tensorflow-io-gcs-filesystem>=0.23.1 in /usr/local/lib/python3.10/dist-packages (from tensorflow<2.19,>=2.18.0->tensorflow-text->keras-hub==0.16.1->keras_nlp<0.17->keras_nlp[tensorflow]<0.17) (0.37.1)\n",
            "Requirement already satisfied: charset-normalizer<4,>=2 in /usr/local/lib/python3.10/dist-packages (from requests->kagglehub->keras-hub==0.16.1->keras_nlp<0.17->keras_nlp[tensorflow]<0.17) (3.4.0)\n",
            "Requirement already satisfied: idna<4,>=2.5 in /usr/local/lib/python3.10/dist-packages (from requests->kagglehub->keras-hub==0.16.1->keras_nlp<0.17->keras_nlp[tensorflow]<0.17) (3.10)\n",
            "Requirement already satisfied: urllib3<3,>=1.21.1 in /usr/local/lib/python3.10/dist-packages (from requests->kagglehub->keras-hub==0.16.1->keras_nlp<0.17->keras_nlp[tensorflow]<0.17) (2.2.3)\n",
            "Requirement already satisfied: certifi>=2017.4.17 in /usr/local/lib/python3.10/dist-packages (from requests->kagglehub->keras-hub==0.16.1->keras_nlp<0.17->keras_nlp[tensorflow]<0.17) (2024.8.30)\n",
            "Requirement already satisfied: wheel<1.0,>=0.23.0 in /usr/local/lib/python3.10/dist-packages (from astunparse>=1.6.0->tensorflow<2.19,>=2.18.0->tensorflow-text->keras-hub==0.16.1->keras_nlp<0.17->keras_nlp[tensorflow]<0.17) (0.45.1)\n",
            "Requirement already satisfied: namex in /usr/local/lib/python3.10/dist-packages (from keras>=3.5.0->tensorflow<2.19,>=2.18.0->tensorflow-text->keras-hub==0.16.1->keras_nlp<0.17->keras_nlp[tensorflow]<0.17) (0.0.8)\n",
            "Requirement already satisfied: optree in /usr/local/lib/python3.10/dist-packages (from keras>=3.5.0->tensorflow<2.19,>=2.18.0->tensorflow-text->keras-hub==0.16.1->keras_nlp<0.17->keras_nlp[tensorflow]<0.17) (0.13.1)\n",
            "Requirement already satisfied: markdown>=2.6.8 in /usr/local/lib/python3.10/dist-packages (from tensorboard<2.19,>=2.18->tensorflow<2.19,>=2.18.0->tensorflow-text->keras-hub==0.16.1->keras_nlp<0.17->keras_nlp[tensorflow]<0.17) (3.7)\n",
            "Requirement already satisfied: tensorboard-data-server<0.8.0,>=0.7.0 in /usr/local/lib/python3.10/dist-packages (from tensorboard<2.19,>=2.18->tensorflow<2.19,>=2.18.0->tensorflow-text->keras-hub==0.16.1->keras_nlp<0.17->keras_nlp[tensorflow]<0.17) (0.7.2)\n",
            "Requirement already satisfied: werkzeug>=1.0.1 in /usr/local/lib/python3.10/dist-packages (from tensorboard<2.19,>=2.18->tensorflow<2.19,>=2.18.0->tensorflow-text->keras-hub==0.16.1->keras_nlp<0.17->keras_nlp[tensorflow]<0.17) (3.1.3)\n",
            "Requirement already satisfied: MarkupSafe>=2.1.1 in /usr/local/lib/python3.10/dist-packages (from werkzeug>=1.0.1->tensorboard<2.19,>=2.18->tensorflow<2.19,>=2.18.0->tensorflow-text->keras-hub==0.16.1->keras_nlp<0.17->keras_nlp[tensorflow]<0.17) (3.0.2)\n",
            "Downloading keras_nlp-0.16.1-py3-none-any.whl (2.0 kB)\n",
            "Downloading keras_hub-0.16.1-py3-none-any.whl (644 kB)\n",
            "\u001b[2K   \u001b[90m━━━━━━━━━━━━━━━━━━━━━━━━━━━━━━━━━━━━━━━━\u001b[0m \u001b[32m644.1/644.1 kB\u001b[0m \u001b[31m9.6 MB/s\u001b[0m eta \u001b[36m0:00:00\u001b[0m\n",
            "\u001b[?25hInstalling collected packages: keras-hub, keras_nlp\n",
            "  Attempting uninstall: keras-hub\n",
            "    Found existing installation: keras-hub 0.18.1\n",
            "    Uninstalling keras-hub-0.18.1:\n",
            "      Successfully uninstalled keras-hub-0.18.1\n",
            "  Attempting uninstall: keras_nlp\n",
            "    Found existing installation: keras-nlp 0.18.1\n",
            "    Uninstalling keras-nlp-0.18.1:\n",
            "      Successfully uninstalled keras-nlp-0.18.1\n",
            "Successfully installed keras-hub-0.16.1 keras_nlp-0.16.1\n"
          ]
        }
      ]
    },
    {
      "cell_type": "code",
      "source": [
        "# vamos a contar las palabras de las diferentes noticias\n",
        "\n",
        "conteo = data2['contenido_preprocesado'].str.split().apply(len)\n",
        "conteo.describe(percentiles=[0.25, 0.5, 0.75, 0.9, 0.99])"
      ],
      "metadata": {
        "colab": {
          "base_uri": "https://localhost:8080/",
          "height": 397
        },
        "id": "xdUQTbcGKqxJ",
        "outputId": "2f16f42c-f160-4e55-9dd0-8eed4f9d4330"
      },
      "id": "xdUQTbcGKqxJ",
      "execution_count": 9,
      "outputs": [
        {
          "output_type": "execute_result",
          "data": {
            "text/plain": [
              "count    1866.000000\n",
              "mean      602.788317\n",
              "std       443.489502\n",
              "min        90.000000\n",
              "25%       326.000000\n",
              "50%       485.500000\n",
              "75%       734.000000\n",
              "90%      1120.000000\n",
              "99%      2047.100000\n",
              "max      5773.000000\n",
              "Name: contenido_preprocesado, dtype: float64"
            ],
            "text/html": [
              "<div>\n",
              "<style scoped>\n",
              "    .dataframe tbody tr th:only-of-type {\n",
              "        vertical-align: middle;\n",
              "    }\n",
              "\n",
              "    .dataframe tbody tr th {\n",
              "        vertical-align: top;\n",
              "    }\n",
              "\n",
              "    .dataframe thead th {\n",
              "        text-align: right;\n",
              "    }\n",
              "</style>\n",
              "<table border=\"1\" class=\"dataframe\">\n",
              "  <thead>\n",
              "    <tr style=\"text-align: right;\">\n",
              "      <th></th>\n",
              "      <th>contenido_preprocesado</th>\n",
              "    </tr>\n",
              "  </thead>\n",
              "  <tbody>\n",
              "    <tr>\n",
              "      <th>count</th>\n",
              "      <td>1866.000000</td>\n",
              "    </tr>\n",
              "    <tr>\n",
              "      <th>mean</th>\n",
              "      <td>602.788317</td>\n",
              "    </tr>\n",
              "    <tr>\n",
              "      <th>std</th>\n",
              "      <td>443.489502</td>\n",
              "    </tr>\n",
              "    <tr>\n",
              "      <th>min</th>\n",
              "      <td>90.000000</td>\n",
              "    </tr>\n",
              "    <tr>\n",
              "      <th>25%</th>\n",
              "      <td>326.000000</td>\n",
              "    </tr>\n",
              "    <tr>\n",
              "      <th>50%</th>\n",
              "      <td>485.500000</td>\n",
              "    </tr>\n",
              "    <tr>\n",
              "      <th>75%</th>\n",
              "      <td>734.000000</td>\n",
              "    </tr>\n",
              "    <tr>\n",
              "      <th>90%</th>\n",
              "      <td>1120.000000</td>\n",
              "    </tr>\n",
              "    <tr>\n",
              "      <th>99%</th>\n",
              "      <td>2047.100000</td>\n",
              "    </tr>\n",
              "    <tr>\n",
              "      <th>max</th>\n",
              "      <td>5773.000000</td>\n",
              "    </tr>\n",
              "  </tbody>\n",
              "</table>\n",
              "</div><br><label><b>dtype:</b> float64</label>"
            ]
          },
          "metadata": {},
          "execution_count": 9
        }
      ]
    },
    {
      "cell_type": "code",
      "execution_count": 10,
      "id": "df47b88e",
      "metadata": {
        "colab": {
          "base_uri": "https://localhost:8080/"
        },
        "id": "df47b88e",
        "outputId": "f28b727c-9173-4953-bcfe-1846c43e8e19"
      },
      "outputs": [
        {
          "output_type": "execute_result",
          "data": {
            "text/plain": [
              "array([[ 5239,  1436,  2723, ...,     0,     0,     0],\n",
              "       [  132,  5526,  1078, ...,    78,    27,    67],\n",
              "       [    4,  1503, 16354, ...,     0,     0,     0],\n",
              "       [    4,  8045,     1, ...,     0,     0,     0],\n",
              "       [13747,  8720, 20459, ...,     0,     0,     0]], dtype=int32)"
            ]
          },
          "metadata": {},
          "execution_count": 10
        }
      ],
      "source": [
        "# Tokenizar el texto\n",
        "\n",
        "from tensorflow.keras.preprocessing.text import Tokenizer\n",
        "from tensorflow.keras.preprocessing.sequence import pad_sequences\n",
        "\n",
        "# Tokenización y padding\n",
        "tokenizer = Tokenizer()\n",
        "tokenizer.fit_on_texts(data2['contenido_preprocesado'])\n",
        "sequences = tokenizer.texts_to_sequences(data2['contenido_preprocesado'])\n",
        "word_index = tokenizer.word_index\n",
        "max_len = 1000\n",
        "padded_sequences = pad_sequences(sequences, maxlen=max_len, padding='post')\n",
        "\n",
        "# Mostrar algunas secuencias preprocesadas\n",
        "padded_sequences[:5]\n",
        "\n",
        "## También puede usar las técnicas de preprocesamiento de texto y de embedding que hicimos anteriormente\n",
        "\n",
        "\n"
      ]
    },
    {
      "cell_type": "markdown",
      "source": [
        "# Ejercicio 4\n",
        "\n",
        "# División del Conjunto de Datos\n",
        "\n",
        "Objetivo: Crear conjuntos de datos de entrenamiento y validación para evaluar el modelo.  \n",
        "Acciones:\n",
        "* Dividir el conjunto de datos preprocesado en dos partes: uno para entrenar el modelo y otro para validarlo.\n",
        "* Asegurarse de que la división sea aleatoria, pero que mantenga una proporción similar de las categorías en ambos conjuntos."
      ],
      "metadata": {
        "id": "KKZFy0IE2sDz"
      },
      "id": "KKZFy0IE2sDz"
    },
    {
      "cell_type": "code",
      "source": [
        "from imblearn.over_sampling import RandomOverSampler\n",
        "from sklearn.model_selection import train_test_split\n",
        "from sklearn.preprocessing import LabelEncoder\n",
        "\n",
        "# Codificación de etiquetas\n",
        "label_encoder = LabelEncoder()\n",
        "data2.loc[:,'Etiqueta_codificada'] = label_encoder.fit_transform(data2['Etiqueta'])\n",
        "\n",
        "# División del conjunto de datos\n",
        "X_train2, X_val, y_train2, y_val = train_test_split(padded_sequences, data2['Etiqueta_codificada'], test_size=0.2, random_state=42,stratify=data2['Etiqueta_codificada'])\n",
        "\n",
        "# Mostrar tamaño de los conjuntos de datos\n",
        "ros = RandomOverSampler(random_state=42)\n",
        "X_train, y_train = ros.fit_resample(X_train2, y_train2)\n",
        "\n",
        "len(X_train), len(X_val)\n"
      ],
      "metadata": {
        "colab": {
          "base_uri": "https://localhost:8080/"
        },
        "id": "AvrRp9eM12Lm",
        "outputId": "1b8bb662-4b1f-4729-9a89-910c3d33630d"
      },
      "id": "AvrRp9eM12Lm",
      "execution_count": 11,
      "outputs": [
        {
          "output_type": "execute_result",
          "data": {
            "text/plain": [
              "(2324, 374)"
            ]
          },
          "metadata": {},
          "execution_count": 11
        }
      ]
    },
    {
      "cell_type": "markdown",
      "source": [
        "#Ejercicio 5\n",
        "\n",
        "## Implementación de un Modelo RNN\n",
        "\n",
        "Objetivo: Construir y entrenar un modelo RNN para clasificar las noticias.  \n",
        "Acciones:\n",
        "* Definir la arquitectura del modelo RNN, incluyendo capas de embedding y capas recurrentes.\n",
        "* Configurar los hiperparámetros del modelo, como el tamaño del embedding y el número de unidades recurrentes.\n",
        "* Entrenar el modelo utilizando el conjunto de datos de entrenamiento y evaluar su rendimiento en el conjunto de validación."
      ],
      "metadata": {
        "id": "TJnoSVms2mLg"
      },
      "id": "TJnoSVms2mLg"
    },
    {
      "cell_type": "code",
      "source": [
        "from keras.models import Sequential\n",
        "from keras.layers import Embedding, SimpleRNN, Dense\n",
        "from tensorflow import keras\n",
        "from keras.layers import Dropout\n",
        "\n",
        "# Construcción del modelo RNN\n",
        "# Haga cambios en la arquitectura del modelo para mejorar su rendimiento\n",
        "model_rnn = Sequential()\n",
        "model_rnn.add(Embedding(input_dim=len(word_index) + 1, output_dim=528, input_length=max_len))\n",
        "#model_rnn.add(Dropout(0.2))\n",
        "model_rnn.add(SimpleRNN(units=64, return_sequences=False))\n",
        "model_rnn.add(Dense(units=len(filt_etie), activation='softmax'))\n",
        "\n",
        "\n",
        "# Compilación del modelo\n",
        "\n",
        "#model_rnn.compile(optimizer='adam', loss='sparse_categorical_crossentropy', metrics=['accuracy'])\n",
        "model_rnn.compile(optimizer=keras.optimizers.Adam(learning_rate=0.0001), loss='sparse_categorical_crossentropy', metrics=['accuracy'])\n",
        "# funcion perdida, sparse entre 0s y 1 s\n",
        "\n",
        "# Entrenamiento del modelo\n",
        "history_rnn = model_rnn.fit(X_train, y_train, validation_data=(X_val, y_val), epochs=10, batch_size=32)\n",
        "\n",
        "# Visualización de resultados del modelo RNN\n",
        "plt.figure(figsize=(10, 6))\n",
        "plt.plot(history_rnn.history['accuracy'], label='Entrenamiento')\n",
        "plt.plot(history_rnn.history['val_accuracy'], label='Validación')\n",
        "plt.xlabel('Épocas')\n",
        "plt.ylabel('Accuracy')\n",
        "plt.legend()\n",
        "plt.title('Curvas de Aprendizaje - RNN')\n",
        "plt.show()\n"
      ],
      "metadata": {
        "colab": {
          "base_uri": "https://localhost:8080/",
          "height": 968
        },
        "id": "2qtXfEoL2hWg",
        "outputId": "af11c9da-732e-4c75-dc32-88667515131b"
      },
      "id": "2qtXfEoL2hWg",
      "execution_count": 12,
      "outputs": [
        {
          "output_type": "stream",
          "name": "stdout",
          "text": [
            "Epoch 1/10\n"
          ]
        },
        {
          "output_type": "stream",
          "name": "stderr",
          "text": [
            "/usr/local/lib/python3.10/dist-packages/keras/src/layers/core/embedding.py:90: UserWarning: Argument `input_length` is deprecated. Just remove it.\n",
            "  warnings.warn(\n"
          ]
        },
        {
          "output_type": "stream",
          "name": "stdout",
          "text": [
            "\u001b[1m73/73\u001b[0m \u001b[32m━━━━━━━━━━━━━━━━━━━━\u001b[0m\u001b[37m\u001b[0m \u001b[1m88s\u001b[0m 1s/step - accuracy: 0.2924 - loss: 1.3731 - val_accuracy: 0.4278 - val_loss: 1.3456\n",
            "Epoch 2/10\n",
            "\u001b[1m73/73\u001b[0m \u001b[32m━━━━━━━━━━━━━━━━━━━━\u001b[0m\u001b[37m\u001b[0m \u001b[1m143s\u001b[0m 1s/step - accuracy: 0.3214 - loss: 1.3486 - val_accuracy: 0.2941 - val_loss: 1.3669\n",
            "Epoch 3/10\n",
            "\u001b[1m73/73\u001b[0m \u001b[32m━━━━━━━━━━━━━━━━━━━━\u001b[0m\u001b[37m\u001b[0m \u001b[1m141s\u001b[0m 1s/step - accuracy: 0.3957 - loss: 1.2987 - val_accuracy: 0.2754 - val_loss: 1.3917\n",
            "Epoch 4/10\n",
            "\u001b[1m73/73\u001b[0m \u001b[32m━━━━━━━━━━━━━━━━━━━━\u001b[0m\u001b[37m\u001b[0m \u001b[1m145s\u001b[0m 1s/step - accuracy: 0.4553 - loss: 1.2572 - val_accuracy: 0.2540 - val_loss: 1.3776\n",
            "Epoch 5/10\n",
            "\u001b[1m73/73\u001b[0m \u001b[32m━━━━━━━━━━━━━━━━━━━━\u001b[0m\u001b[37m\u001b[0m \u001b[1m141s\u001b[0m 1s/step - accuracy: 0.5823 - loss: 1.1250 - val_accuracy: 0.2032 - val_loss: 1.4070\n",
            "Epoch 6/10\n",
            "\u001b[1m73/73\u001b[0m \u001b[32m━━━━━━━━━━━━━━━━━━━━\u001b[0m\u001b[37m\u001b[0m \u001b[1m87s\u001b[0m 1s/step - accuracy: 0.6828 - loss: 0.9950 - val_accuracy: 0.2112 - val_loss: 1.4422\n",
            "Epoch 7/10\n",
            "\u001b[1m73/73\u001b[0m \u001b[32m━━━━━━━━━━━━━━━━━━━━\u001b[0m\u001b[37m\u001b[0m \u001b[1m86s\u001b[0m 1s/step - accuracy: 0.7700 - loss: 0.8693 - val_accuracy: 0.2326 - val_loss: 1.4516\n",
            "Epoch 8/10\n",
            "\u001b[1m73/73\u001b[0m \u001b[32m━━━━━━━━━━━━━━━━━━━━\u001b[0m\u001b[37m\u001b[0m \u001b[1m143s\u001b[0m 1s/step - accuracy: 0.8019 - loss: 0.8145 - val_accuracy: 0.2941 - val_loss: 1.4907\n",
            "Epoch 9/10\n",
            "\u001b[1m73/73\u001b[0m \u001b[32m━━━━━━━━━━━━━━━━━━━━\u001b[0m\u001b[37m\u001b[0m \u001b[1m153s\u001b[0m 1s/step - accuracy: 0.9093 - loss: 0.6483 - val_accuracy: 0.3262 - val_loss: 1.4656\n",
            "Epoch 10/10\n",
            "\u001b[1m73/73\u001b[0m \u001b[32m━━━━━━━━━━━━━━━━━━━━\u001b[0m\u001b[37m\u001b[0m \u001b[1m135s\u001b[0m 1s/step - accuracy: 0.9586 - loss: 0.5301 - val_accuracy: 0.2941 - val_loss: 1.5450\n"
          ]
        },
        {
          "output_type": "display_data",
          "data": {
            "text/plain": [
              "<Figure size 1000x600 with 1 Axes>"
            ],
            "image/png": "[encoded data removed]"
          },
          "metadata": {}
        }
      ]
    },
    {
      "cell_type": "code",
      "source": [
        "# Validemos el modelo con la base de testeo\n",
        "\n",
        "loss, accuracy = model_rnn.evaluate(X_val, y_val, verbose=0)\n",
        "print(f\"Test Loss: {loss:.4f}\")\n",
        "print(f\"Test Accuracy: {accuracy:.4f}\")\n",
        "\n",
        "### Calculemos la matriz de confusión\n",
        "y_pred = model_rnn.predict(X_val)\n",
        "y_pred_classes = np.argmax(y_pred, axis=1)\n",
        "\n",
        "from sklearn.metrics import confusion_matrix\n",
        "\n",
        "#confusion_matrix(np.argmax(y_val, axis=0), y_pred_classes)\n",
        "print(confusion_matrix(y_val, y_pred_classes))\n",
        "\n",
        "## Veamos el reporte\n",
        "\n",
        "from sklearn.metrics import classification_report\n",
        "\n",
        "print(classification_report(y_val, y_pred_classes))"
      ],
      "metadata": {
        "colab": {
          "base_uri": "https://localhost:8080/"
        },
        "id": "9O5ms_IhnyCt",
        "outputId": "a68b2f05-1de1-49c7-d128-137a97ce91ae"
      },
      "id": "9O5ms_IhnyCt",
      "execution_count": 13,
      "outputs": [
        {
          "output_type": "stream",
          "name": "stdout",
          "text": [
            "Test Loss: 1.5450\n",
            "Test Accuracy: 0.2941\n",
            "\u001b[1m12/12\u001b[0m \u001b[32m━━━━━━━━━━━━━━━━━━━━\u001b[0m\u001b[37m\u001b[0m \u001b[1m2s\u001b[0m 190ms/step\n",
            "[[30 10 32 14]\n",
            " [40 47 28 31]\n",
            " [20 20 17 16]\n",
            " [23 14 16 16]]\n",
            "              precision    recall  f1-score   support\n",
            "\n",
            "           0       0.27      0.35      0.30        86\n",
            "           1       0.52      0.32      0.40       146\n",
            "           2       0.18      0.23      0.20        73\n",
            "           3       0.21      0.23      0.22        69\n",
            "\n",
            "    accuracy                           0.29       374\n",
            "   macro avg       0.29      0.28      0.28       374\n",
            "weighted avg       0.34      0.29      0.30       374\n",
            "\n"
          ]
        }
      ]
    },
    {
      "cell_type": "code",
      "source": [
        "import tensorflow as tf\n",
        "dicc={'deportes':0,'cultura':1,'economia':2,'justicia':3}\n",
        "\n",
        "y_prueba_2=[dicc[tema] for tema in data2['Etiqueta']]\n",
        "\n",
        "y_prueba=tf.keras.utils.to_categorical(y_prueba_2, num_classes=4)\n"
      ],
      "metadata": {
        "id": "KFBqlDqNvO9Z"
      },
      "id": "KFBqlDqNvO9Z",
      "execution_count": 14,
      "outputs": []
    },
    {
      "cell_type": "code",
      "source": [
        "# División del conjunto de datos\n",
        "X_entre2, X_eva, y_entre2, y_eva = train_test_split(padded_sequences, y_prueba, test_size=0.2, random_state=42)\n",
        "\n",
        "# Mostrar tamaño de los conjuntos de datos\n",
        "X_entre, y_entre = ros.fit_resample(X_entre2, y_entre2)\n",
        "print(X_entre.shape, y_entre.shape)\n",
        "print(tf.keras.utils."
      ],
      "metadata": {
        "id": "aab9ptUncibO",
        "colab": {
          "base_uri": "https://localhost:8080/",
          "height": 193
        },
        "outputId": "4e63c948-0cdc-4044-e925-7bee7ce9e741"
      },
      "id": "aab9ptUncibO",
      "execution_count": 23,
      "outputs": [
        {
          "output_type": "stream",
          "name": "stdout",
          "text": [
            "(2352, 1000) (2352, 4)\n"
          ]
        },
        {
          "output_type": "error",
          "ename": "TypeError",
          "evalue": "to_categorical() got an unexpected keyword argument 'num_clasess'",
          "traceback": [
            "\u001b[0;31m---------------------------------------------------------------------------\u001b[0m",
            "\u001b[0;31mTypeError\u001b[0m                                 Traceback (most recent call last)",
            "\u001b[0;32m<ipython-input-23-70b06118bc78>\u001b[0m in \u001b[0;36m<cell line: 7>\u001b[0;34m()\u001b[0m\n\u001b[1;32m      5\u001b[0m \u001b[0mX_entre\u001b[0m\u001b[0;34m,\u001b[0m \u001b[0my_entre\u001b[0m \u001b[0;34m=\u001b[0m \u001b[0mros\u001b[0m\u001b[0;34m.\u001b[0m\u001b[0mfit_resample\u001b[0m\u001b[0;34m(\u001b[0m\u001b[0mX_entre2\u001b[0m\u001b[0;34m,\u001b[0m \u001b[0my_entre2\u001b[0m\u001b[0;34m)\u001b[0m\u001b[0;34m\u001b[0m\u001b[0;34m\u001b[0m\u001b[0m\n\u001b[1;32m      6\u001b[0m \u001b[0mprint\u001b[0m\u001b[0;34m(\u001b[0m\u001b[0mX_entre\u001b[0m\u001b[0;34m.\u001b[0m\u001b[0mshape\u001b[0m\u001b[0;34m,\u001b[0m \u001b[0my_entre\u001b[0m\u001b[0;34m.\u001b[0m\u001b[0mshape\u001b[0m\u001b[0;34m)\u001b[0m\u001b[0;34m\u001b[0m\u001b[0;34m\u001b[0m\u001b[0m\n\u001b[0;32m----> 7\u001b[0;31m \u001b[0mprint\u001b[0m\u001b[0;34m(\u001b[0m\u001b[0mtf\u001b[0m\u001b[0;34m.\u001b[0m\u001b[0mkeras\u001b[0m\u001b[0;34m.\u001b[0m\u001b[0mutils\u001b[0m\u001b[0;34m.\u001b[0m\u001b[0mto_categorical\u001b[0m\u001b[0;34m(\u001b[0m\u001b[0my_eva\u001b[0m\u001b[0;34m,\u001b[0m \u001b[0mnum_clasess\u001b[0m\u001b[0;34m=\u001b[0m\u001b[0;36m1\u001b[0m\u001b[0;34m)\u001b[0m\u001b[0;34m)\u001b[0m\u001b[0;34m\u001b[0m\u001b[0;34m\u001b[0m\u001b[0m\n\u001b[0m",
            "\u001b[0;31mTypeError\u001b[0m: to_categorical() got an unexpected keyword argument 'num_clasess'"
          ]
        }
      ]
    },
    {
      "cell_type": "markdown",
      "source": [
        "## Ejercicio 6: Construcción y Entrenamiento de Modelos LSTM\n",
        "\n",
        "**Objetivo:** Implementar un modelo de Red Neuronal LSTM (Long Short-Term Memory) para clasificar noticias en las categorías especializadas.\n",
        "**Acciones:**\n",
        "* Construir un modelo LSTM utilizando capas de Embedding, LSTM y Dense.\n",
        "* Compilar el modelo con una función de pérdida adecuada y un optimizador.\n",
        "* Entrenar el modelo con el conjunto de datos de entrenamiento y validar su rendimiento con el conjunto de datos de validación.\n",
        "* Evaluar el rendimiento del modelo en términos de precisión y pérdida."
      ],
      "metadata": {
        "id": "nzm_kGqR6VZ8"
      },
      "id": "nzm_kGqR6VZ8"
    },
    {
      "cell_type": "code",
      "source": [
        "from keras.layers import LSTM\n",
        "from keras.models import Sequential\n",
        "from keras.layers import Embedding, Bidirectional, LSTM, Dense\n",
        "from keras.utils import to_categorical\n",
        "\n",
        "# Construcción del modelo LSTM\n",
        "model_lstm = Sequential()\n",
        "model_lstm.add(Embedding(input_dim=len(word_index) + 1, output_dim=528, input_length=max_len))\n",
        "model_lstm.add(Bidirectional(LSTM(units=64, return_sequences=True)))\n",
        "model_lstm.add(Bidirectional(LSTM(units=32)))\n",
        "model_lstm.add(Dense(units=len(filt_etie), activation='softmax'))\n",
        "\n",
        "# Compilación del modelo\n",
        "model_lstm.compile(optimizer=keras.optimizers.Adam(learning_rate=0.0001), loss='categorical_crossentropy', metrics=['accuracy'])\n",
        "\n",
        "# Entrenamiento del modelo\n",
        "history_lstm = model_lstm.fit(X_entre, y_entre, validation_data=(X_eva, y_eva), epochs=7, batch_size=32)\n",
        "\n",
        "# Visualización de resultados del modelo LSTM\n",
        "plt.figure(figsize=(10, 6))\n",
        "plt.plot(history_lstm.history['accuracy'], label='Entrenamiento')\n",
        "plt.plot(history_lstm.history['val_accuracy'], label='Validación')\n",
        "plt.xlabel('Épocas')\n",
        "plt.ylabel('Accuracy')\n",
        "plt.legend()\n",
        "plt.title('Curvas de Aprendizaje - LSTM')\n",
        "plt.show()\n"
      ],
      "metadata": {
        "colab": {
          "base_uri": "https://localhost:8080/",
          "height": 864
        },
        "id": "Jjy7nPgn6Vpg",
        "outputId": "957944f4-c78e-4425-fa40-53d5567c2a0e"
      },
      "id": "Jjy7nPgn6Vpg",
      "execution_count": 16,
      "outputs": [
        {
          "metadata": {
            "tags": null
          },
          "name": "stdout",
          "output_type": "stream",
          "text": [
            "Epoch 1/7\n"
          ]
        },
        {
          "metadata": {
            "tags": null
          },
          "name": "stderr",
          "output_type": "stream",
          "text": [
            "/usr/local/lib/python3.10/dist-packages/keras/src/layers/core/embedding.py:90: UserWarning: Argument `input_length` is deprecated. Just remove it.\n",
            "  warnings.warn(\n"
          ]
        },
        {
          "output_type": "stream",
          "name": "stdout",
          "text": [
            "\u001b[1m74/74\u001b[0m \u001b[32m━━━━━━━━━━━━━━━━━━━━\u001b[0m\u001b[37m\u001b[0m \u001b[1m450s\u001b[0m 6s/step - accuracy: 0.2886 - loss: 1.3811 - val_accuracy: 0.4225 - val_loss: 1.3564\n",
            "Epoch 2/7\n",
            "\u001b[1m74/74\u001b[0m \u001b[32m━━━━━━━━━━━━━━━━━━━━\u001b[0m\u001b[37m\u001b[0m \u001b[1m429s\u001b[0m 6s/step - accuracy: 0.4603 - loss: 1.3174 - val_accuracy: 0.5802 - val_loss: 1.0121\n",
            "Epoch 3/7\n",
            "\u001b[1m74/74\u001b[0m \u001b[32m━━━━━━━━━━━━━━━━━━━━\u001b[0m\u001b[37m\u001b[0m \u001b[1m441s\u001b[0m 6s/step - accuracy: 0.6585 - loss: 0.9034 - val_accuracy: 0.6791 - val_loss: 0.8112\n",
            "Epoch 4/7\n",
            "\u001b[1m74/74\u001b[0m \u001b[32m━━━━━━━━━━━━━━━━━━━━\u001b[0m\u001b[37m\u001b[0m \u001b[1m439s\u001b[0m 6s/step - accuracy: 0.8004 - loss: 0.5600 - val_accuracy: 0.7513 - val_loss: 0.6755\n",
            "Epoch 5/7\n",
            "\u001b[1m74/74\u001b[0m \u001b[32m━━━━━━━━━━━━━━━━━━━━\u001b[0m\u001b[37m\u001b[0m \u001b[1m433s\u001b[0m 6s/step - accuracy: 0.8985 - loss: 0.4319 - val_accuracy: 0.8529 - val_loss: 0.5601\n",
            "Epoch 6/7\n",
            "\u001b[1m74/74\u001b[0m \u001b[32m━━━━━━━━━━━━━━━━━━━━\u001b[0m\u001b[37m\u001b[0m \u001b[1m443s\u001b[0m 6s/step - accuracy: 0.9684 - loss: 0.2965 - val_accuracy: 0.8422 - val_loss: 0.5370\n",
            "Epoch 7/7\n",
            "\u001b[1m74/74\u001b[0m \u001b[32m━━━━━━━━━━━━━━━━━━━━\u001b[0m\u001b[37m\u001b[0m \u001b[1m440s\u001b[0m 6s/step - accuracy: 0.9657 - loss: 0.2089 - val_accuracy: 0.8850 - val_loss: 0.4019\n"
          ]
        },
        {
          "output_type": "display_data",
          "data": {
            "text/plain": [
              "<Figure size 1000x600 with 1 Axes>"
            ],
            "image/png": "[encoded data removed]"
          },
          "metadata": {}
        }
      ]
    },
    {
      "cell_type": "markdown",
      "source": [
        "#Ejercicio 7\n",
        "\n",
        "##Comparación de Resultados\n",
        "\n",
        "**Objetivo:** Evaluar y comparar el rendimiento de los modelos RNN y LSTM.\n",
        "**Acciones:**\n",
        "* Calcular y comparar métricas de rendimiento como precisión, recall y F1-score para ambos modelos.\n",
        "* Visualizar las curvas de aprendizaje y los resultados de validación para entender mejor cómo se desempeñan los modelos en las tareas de clasificación.\n",
        "* Comparar los modelos permite entender las fortalezas y debilidades de cada enfoque, proporcionando información valiosa para elegir el modelo más adecuado para tareas específicas de clasificación de texto. Documentar estos resultados de forma asertiva en el cuaderno y en el informe."
      ],
      "metadata": {
        "id": "l-glC6W4vQHl"
      },
      "id": "l-glC6W4vQHl"
    },
    {
      "cell_type": "code",
      "source": [
        "# Validemos el modelo con la base de testeo para el modelo LSTM\n",
        "\n",
        "loss, accuracy = model_lstm.evaluate(X_eva, y_eva, verbose=0)\n",
        "print(f\"Test Loss: {loss:.4f}\")\n",
        "print(f\"Test Accuracy: {accuracy:.4f}\")\n",
        "\n",
        "### Calculemos la matriz de confusión\n",
        "y_pred2 = model_rnn.predict(X_eva)\n",
        "y_pred_lstm = np.argmax(y_pred2, axis=1)\n",
        "\n",
        "from sklearn.metrics import confusion_matrix\n",
        "y_eva2 = np.argmax(y_eva, axis=1)\n",
        "print(confusion_matrix(y_eva2, y_pred_lstm))\n",
        "\n",
        "## Veamos el reporte\n",
        "\n",
        "from sklearn.metrics import classification_report\n",
        "\n",
        "print(classification_report(y_eva2, y_pred_lstm))\n",
        "print(confusion_matrix(y_eva2, y_pred_lstm))\n",
        "\n",
        "## Veamos el reporte\n",
        "\n",
        "from sklearn.metrics import classification_report\n",
        "\n",
        "print(classification_report(y_eva2, y_pred_lstm))"
      ],
      "metadata": {
        "id": "fX69SuvyYmd7",
        "colab": {
          "base_uri": "https://localhost:8080/",
          "height": 703
        },
        "outputId": "b5d02228-93ef-4c2e-f178-ad1da7d44d7b"
      },
      "id": "fX69SuvyYmd7",
      "execution_count": 20,
      "outputs": [
        {
          "output_type": "stream",
          "name": "stdout",
          "text": [
            "Test Loss: 0.4019\n",
            "Test Accuracy: 0.8850\n",
            "\u001b[1m12/12\u001b[0m \u001b[32m━━━━━━━━━━━━━━━━━━━━\u001b[0m\u001b[37m\u001b[0m \u001b[1m3s\u001b[0m 225ms/step\n",
            "[[  9 117   7   6]\n",
            " [ 77   2   7   5]\n",
            " [  5   6  58   7]\n",
            " [  5   5   0  58]]\n",
            "              precision    recall  f1-score   support\n",
            "\n",
            "           0       0.09      0.06      0.08       139\n",
            "           1       0.02      0.02      0.02        91\n",
            "           2       0.81      0.76      0.78        76\n",
            "           3       0.76      0.85      0.81        68\n",
            "\n",
            "    accuracy                           0.34       374\n",
            "   macro avg       0.42      0.43      0.42       374\n",
            "weighted avg       0.34      0.34      0.34       374\n",
            "\n",
            "[[  9 117   7   6]\n",
            " [ 77   2   7   5]\n",
            " [  5   6  58   7]\n",
            " [  5   5   0  58]]\n"
          ]
        },
        {
          "output_type": "error",
          "ename": "ValueError",
          "evalue": "Classification metrics can't handle a mix of multilabel-indicator and multiclass targets",
          "traceback": [
            "\u001b[0;31m---------------------------------------------------------------------------\u001b[0m",
            "\u001b[0;31mValueError\u001b[0m                                Traceback (most recent call last)",
            "\u001b[0;32m<ipython-input-20-a748ecc8ce73>\u001b[0m in \u001b[0;36m<cell line: 26>\u001b[0;34m()\u001b[0m\n\u001b[1;32m     24\u001b[0m \u001b[0;32mfrom\u001b[0m \u001b[0msklearn\u001b[0m\u001b[0;34m.\u001b[0m\u001b[0mmetrics\u001b[0m \u001b[0;32mimport\u001b[0m \u001b[0mclassification_report\u001b[0m\u001b[0;34m\u001b[0m\u001b[0;34m\u001b[0m\u001b[0m\n\u001b[1;32m     25\u001b[0m \u001b[0;34m\u001b[0m\u001b[0m\n\u001b[0;32m---> 26\u001b[0;31m \u001b[0mprint\u001b[0m\u001b[0;34m(\u001b[0m\u001b[0mclassification_report\u001b[0m\u001b[0;34m(\u001b[0m\u001b[0my_eva\u001b[0m\u001b[0;34m,\u001b[0m \u001b[0my_pred_lstm\u001b[0m\u001b[0;34m)\u001b[0m\u001b[0;34m)\u001b[0m\u001b[0;34m\u001b[0m\u001b[0;34m\u001b[0m\u001b[0m\n\u001b[0m",
            "\u001b[0;32m/usr/local/lib/python3.10/dist-packages/sklearn/utils/_param_validation.py\u001b[0m in \u001b[0;36mwrapper\u001b[0;34m(*args, **kwargs)\u001b[0m\n\u001b[1;32m    211\u001b[0m                     )\n\u001b[1;32m    212\u001b[0m                 ):\n\u001b[0;32m--> 213\u001b[0;31m                     \u001b[0;32mreturn\u001b[0m \u001b[0mfunc\u001b[0m\u001b[0;34m(\u001b[0m\u001b[0;34m*\u001b[0m\u001b[0margs\u001b[0m\u001b[0;34m,\u001b[0m \u001b[0;34m**\u001b[0m\u001b[0mkwargs\u001b[0m\u001b[0;34m)\u001b[0m\u001b[0;34m\u001b[0m\u001b[0;34m\u001b[0m\u001b[0m\n\u001b[0m\u001b[1;32m    214\u001b[0m             \u001b[0;32mexcept\u001b[0m \u001b[0mInvalidParameterError\u001b[0m \u001b[0;32mas\u001b[0m \u001b[0me\u001b[0m\u001b[0;34m:\u001b[0m\u001b[0;34m\u001b[0m\u001b[0;34m\u001b[0m\u001b[0m\n\u001b[1;32m    215\u001b[0m                 \u001b[0;31m# When the function is just a wrapper around an estimator, we allow\u001b[0m\u001b[0;34m\u001b[0m\u001b[0;34m\u001b[0m\u001b[0m\n",
            "\u001b[0;32m/usr/local/lib/python3.10/dist-packages/sklearn/metrics/_classification.py\u001b[0m in \u001b[0;36mclassification_report\u001b[0;34m(y_true, y_pred, labels, target_names, sample_weight, digits, output_dict, zero_division)\u001b[0m\n\u001b[1;32m   2624\u001b[0m     \"\"\"\n\u001b[1;32m   2625\u001b[0m \u001b[0;34m\u001b[0m\u001b[0m\n\u001b[0;32m-> 2626\u001b[0;31m     \u001b[0my_type\u001b[0m\u001b[0;34m,\u001b[0m \u001b[0my_true\u001b[0m\u001b[0;34m,\u001b[0m \u001b[0my_pred\u001b[0m \u001b[0;34m=\u001b[0m \u001b[0m_check_targets\u001b[0m\u001b[0;34m(\u001b[0m\u001b[0my_true\u001b[0m\u001b[0;34m,\u001b[0m \u001b[0my_pred\u001b[0m\u001b[0;34m)\u001b[0m\u001b[0;34m\u001b[0m\u001b[0;34m\u001b[0m\u001b[0m\n\u001b[0m\u001b[1;32m   2627\u001b[0m \u001b[0;34m\u001b[0m\u001b[0m\n\u001b[1;32m   2628\u001b[0m     \u001b[0;32mif\u001b[0m \u001b[0mlabels\u001b[0m \u001b[0;32mis\u001b[0m \u001b[0;32mNone\u001b[0m\u001b[0;34m:\u001b[0m\u001b[0;34m\u001b[0m\u001b[0;34m\u001b[0m\u001b[0m\n",
            "\u001b[0;32m/usr/local/lib/python3.10/dist-packages/sklearn/metrics/_classification.py\u001b[0m in \u001b[0;36m_check_targets\u001b[0;34m(y_true, y_pred)\u001b[0m\n\u001b[1;32m    110\u001b[0m \u001b[0;34m\u001b[0m\u001b[0m\n\u001b[1;32m    111\u001b[0m     \u001b[0;32mif\u001b[0m \u001b[0mlen\u001b[0m\u001b[0;34m(\u001b[0m\u001b[0my_type\u001b[0m\u001b[0;34m)\u001b[0m \u001b[0;34m>\u001b[0m \u001b[0;36m1\u001b[0m\u001b[0;34m:\u001b[0m\u001b[0;34m\u001b[0m\u001b[0;34m\u001b[0m\u001b[0m\n\u001b[0;32m--> 112\u001b[0;31m         raise ValueError(\n\u001b[0m\u001b[1;32m    113\u001b[0m             \"Classification metrics can't handle a mix of {0} and {1} targets\".format(\n\u001b[1;32m    114\u001b[0m                 \u001b[0mtype_true\u001b[0m\u001b[0;34m,\u001b[0m \u001b[0mtype_pred\u001b[0m\u001b[0;34m\u001b[0m\u001b[0;34m\u001b[0m\u001b[0m\n",
            "\u001b[0;31mValueError\u001b[0m: Classification metrics can't handle a mix of multilabel-indicator and multiclass targets"
          ]
        }
      ]
    },
    {
      "cell_type": "code",
      "source": [],
      "metadata": {
        "id": "hGK4Oqa2a1if"
      },
      "id": "hGK4Oqa2a1if",
      "execution_count": 16,
      "outputs": []
    }
  ],
  "metadata": {
    "kernelspec": {
      "display_name": "Python 3",
      "language": "python",
      "name": "python3"
    },
    "language_info": {
      "codemirror_mode": {
        "name": "ipython",
        "version": 3
      },
      "file_extension": ".py",
      "mimetype": "text/x-python",
      "name": "python",
      "nbconvert_exporter": "python",
      "pygments_lexer": "ipython3",
      "version": "3.10.14"
    },
    "colab": {
      "provenance": [],
      "include_colab_link": true
    }
  },
  "nbformat": 4,
  "nbformat_minor": 5
}